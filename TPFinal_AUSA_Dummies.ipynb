{
  "nbformat": 4,
  "nbformat_minor": 0,
  "metadata": {
    "colab": {
      "name": "TPFinal_AUSA_Dummies.ipynb",
      "version": "0.3.2",
      "provenance": [],
      "collapsed_sections": [],
      "include_colab_link": true
    },
    "language_info": {
      "codemirror_mode": {
        "name": "ipython",
        "version": 3
      },
      "file_extension": ".py",
      "mimetype": "text/x-python",
      "name": "python",
      "nbconvert_exporter": "python",
      "pygments_lexer": "ipython3",
      "version": "3.7.1"
    },
    "kernelspec": {
      "display_name": "Python 3",
      "language": "python",
      "name": "python3"
    }
  },
  "cells": [
    {
      "cell_type": "markdown",
      "metadata": {
        "id": "view-in-github",
        "colab_type": "text"
      },
      "source": [
        "<a href=\"https://colab.research.google.com/github/pythience/Integrador/blob/master/TPFinal_AUSA_Dummies.ipynb\" target=\"_parent\"><img src=\"https://colab.research.google.com/assets/colab-badge.svg\" alt=\"Open In Colab\"/></a>"
      ]
    },
    {
      "cell_type": "markdown",
      "metadata": {
        "colab_type": "text",
        "id": "0VMdqoAsp1x9"
      },
      "source": [
        "#Data Science 2019 - Digital House #Data\n",
        "##Trabajo Integrador\n",
        "![](https://www.ausa.com.ar/wp-content/themes/ausa/images/logo-ausa-negro.png)\n",
        "##Seguridad Vial Autopistas Ausa \n",
        "###Introducción\n",
        "####Información de hechos que requirieron atención por parte de Seguridad de Vial de AUSA.\n",
        "\n",
        "El dataset consiste en vectores de características que pertenecen a 5700+ incidentes o hechos que requirieron atención por parte de Seguridad de Vial de AUSA. \n",
        "\n",
        "El conjunto de datos se conforma de manera que cada registro pertenezca a un hecho diferente. Cada hecho se registra con fecha y hora, vía dónde ocurre, condiciones climáticas y vehículos involucrados.\n",
        "\n",
        "El conjunto de datos original consta de 1 atributo de fechas, 8 atributos numéricos y 6 atributos categóricos. El atributo 'lesionados' o 'fallecidos' se utiliza como etiqueta de clasificación.\n",
        "\n",
        "####Descripción de las columnas:\n",
        "**Fecha:** Fecha del hecho.\n",
        "\n",
        "**Autopista:** En cuál de las autopistas que administra AUSA se produjo el hecho. (También se informan zonas importantes como el distribuidor de 9 de julio y la zona de transición entre la AU1 y las AU6).\n",
        "**Localización:** Detalle que da más precisión del lugar donde se produjo el hecho dentro de la autopista.\n",
        "**Punto Kilométrico:** Lugar del hecho contado desde el kilometro 0 de cada autopista.\n",
        "\n",
        "**Tipo Evento:** Categorización del hecho:\n",
        "*   **Accidente:** acontecimiento inesperado, no planeado, que implica una alteración en el estado normal de las personas, elementos o funciones, con repercusiones negativas,con potencial para causar lesiones o muerte en las personas y daños o perjuicios a bienes de los actores involucrados o de terceros.\n",
        "*   **Incidente:** materialización de un riesgo en un suceso concreto de escasa o nula\n",
        "repercusión dañina, que puede ocasionar una reducción temporaria de la calzada o un\n",
        "incremento anormal de la demanda, que afecta la seguridad vial y que puede\n",
        "desencadenar en un accidente.\n",
        "\n",
        "**Tipo de siniestro:** son descripciones acotadas o categorizadas del hecho de tránsito.\n",
        "\n",
        "**Tipos de Vehículos:** es la clasificación por tipología de vehículos involucrados.\n",
        "*   Camiones (incluye FURGON GRANDE, GRUAS).\n",
        "*   Autos (incluye: TAXI, PIC UP, CAMIONETA, FURGON CHICO).\n",
        "*   Motos\n",
        "*   Ómnibus (Incluye: AUTOBUS y MINIBUS).\n",
        "\n",
        "**Clima:** Estado del Clima en el momento del hecho (seleccionado manualmente).\n",
        "\n",
        "**Estado Pavimento:** Estado del pavimento en el momento del hecho (seleccionado\n",
        "manualmente).\n",
        "\n",
        "**Fallecidos y Heridos:** Numero de involucrados en los accidentes según su estado de gravedad.\n",
        "\n",
        "\n",
        "\n",
        "---\n",
        "\n",
        "\n",
        "###  Series de tiempo\n",
        "\n",
        "El análisis de series de tiempo se suele utilizar para proyectar o pronosticar la evolución de una variable a lo largo del tiempo, a partir de información previa sobre esa misma variable. \n",
        "\n",
        "#### 1) Análisis exploratorio y preprocessing\n",
        "\n",
        "El dataset nos provee:\n",
        "*   tres columnas sobre la ubicación donde se produce el incidente. \n",
        "*   tres columnas relacionadas a la fecha del incidente. (donde detectamos una inconsistencia de origen en el formato de la fecha, y para lo cual el dataset incluye una columna adicional que permite corregirlo).\n",
        "*   dos columnas sobre las condiciones ambientales al momento del incidente.\n",
        "*   cinco columnas sobre el tipo de incidente y los vehículos involucrados.\n",
        "*   dos columnas sobre el estado y cantidad de personas involucradas.\n",
        "\n",
        "\n",
        "*Otras características:*\n",
        "La función \"Día especial\" indica la proximidad del tiempo de visita del sitio a un día especial específico (por ejemplo, el Día de la Madre, el Día de San Valentín) en el que es más probable que las sesiones finalicen con la compra. El valor de este atributo se determina considerando la dinámica del comercio electrónico, como la duración entre la fecha del pedido y la fecha de entrega. Por ejemplo, para el día de San Valentín, este valor toma un valor distinto de cero entre el 2 de febrero y el 12 de febrero, cero antes y después de esta fecha a menos que esté cerca de otro día especial, y su valor máximo de 1 el 8 de febrero. El conjunto de datos también incluye sistema operativo, navegador, región, tipo de tráfico, tipo de visitante como visitante recurrente o nuevo, un valor booleano que indica si la fecha de la visita es el fin de semana y el mes del año.\n",
        "\n",
        "*Fuente: https://data.buenosaires.gob.ar/dataset/seguridad-vial-autopistas-ausa/archivo/187.2*\n",
        "\n",
        "\n",
        "---\n",
        "\n"
      ]
    },
    {
      "cell_type": "markdown",
      "metadata": {
        "id": "0LX3X5OzFpnc",
        "colab_type": "text"
      },
      "source": [
        "#ANÁLISIS EXPLICATIVO"
      ]
    },
    {
      "cell_type": "markdown",
      "metadata": {
        "id": "w1icseXWFpMD",
        "colab_type": "text"
      },
      "source": [
        ""
      ]
    },
    {
      "cell_type": "code",
      "metadata": {
        "colab_type": "code",
        "id": "WC5OfX4Qsivy",
        "outputId": "d06d528e-d15f-47da-cd49-9fff093bc1d0",
        "colab": {
          "base_uri": "https://localhost:8080/",
          "height": 33
        }
      },
      "source": [
        "# para Colab, excluir para Anaconda\n",
        "from google.colab import drive \n",
        "drive.mount('/content/gdrive')"
      ],
      "execution_count": 0,
      "outputs": [
        {
          "output_type": "stream",
          "text": [
            "Drive already mounted at /content/gdrive; to attempt to forcibly remount, call drive.mount(\"/content/gdrive\", force_remount=True).\n"
          ],
          "name": "stdout"
        }
      ]
    },
    {
      "cell_type": "code",
      "metadata": {
        "colab_type": "code",
        "id": "rZnel_iusiwP",
        "colab": {}
      },
      "source": [
        "# para Anaconda:\n",
        "path = ''\n",
        "\n",
        "# para Colab, CB:\n",
        "path = 'gdrive/My Drive/DataScience - DH/Trabajo_Integrador/AUSA/BA DATA/'"
      ],
      "execution_count": 0,
      "outputs": []
    },
    {
      "cell_type": "code",
      "metadata": {
        "colab_type": "code",
        "id": "yTuKP9GoGsG5",
        "colab": {}
      },
      "source": [
        "# Importamos las librerías necesarias\n",
        "# https://data.buenosaires.gob.ar/dataset/seguridad-vial-autopistas-ausa/archivo/187.2\n",
        "import pandas as pd\n",
        "import numpy as np\n",
        "import matplotlib.pyplot as plt\n",
        "from sklearn.preprocessing import StandardScaler\n",
        "import seaborn as sns\n",
        "%matplotlib inline\n",
        "pd.options.display.max_rows = 100\n",
        "pd.set_option(\"display.max_rows\", 101)\n",
        "from datetime import datetime, date, time, timedelta\n",
        "import calendar"
      ],
      "execution_count": 0,
      "outputs": []
    },
    {
      "cell_type": "code",
      "metadata": {
        "colab_type": "code",
        "id": "kzLdyT_UGsG_",
        "outputId": "c00f0be6-c798-4188-c411-6d952f5f2c34",
        "colab": {
          "base_uri": "https://localhost:8080/",
          "height": 33
        }
      },
      "source": [
        "# Levantamos el dataset\n",
        "# df = pd.read_csv(\"intervenciones-de-seguridad-vial.csv\", encoding = 'utf-8')\n",
        "df = pd.read_csv('{}intervenciones-de-seguridad-vial.csv'.format(path), dtype={'periodo':'str', 'fecha':'str'}, encoding = 'utf-8')  \n",
        "\n",
        "df.shape"
      ],
      "execution_count": 0,
      "outputs": [
        {
          "output_type": "execute_result",
          "data": {
            "text/plain": [
              "(5785, 15)"
            ]
          },
          "metadata": {
            "tags": []
          },
          "execution_count": 32
        }
      ]
    },
    {
      "cell_type": "code",
      "metadata": {
        "colab_type": "code",
        "id": "n3Tiaduy4thl",
        "colab": {}
      },
      "source": [
        "#import pickle\n",
        "#with open('{}intervenciones-de-seguridad-vial.pkl'.format(path), 'rb') as f_df:\n",
        "#    df = pickle.load(f_df)\n",
        "#    \n",
        "#df.shape"
      ],
      "execution_count": 0,
      "outputs": []
    },
    {
      "cell_type": "code",
      "metadata": {
        "colab_type": "code",
        "id": "z7470FhWGsHN",
        "scrolled": false,
        "outputId": "3302bad6-153f-4ca7-887f-d7225034e066",
        "colab": {
          "base_uri": "https://localhost:8080/",
          "height": 279
        }
      },
      "source": [
        "df.sample(5)"
      ],
      "execution_count": 0,
      "outputs": [
        {
          "output_type": "execute_result",
          "data": {
            "text/html": [
              "<div>\n",
              "<style scoped>\n",
              "    .dataframe tbody tr th:only-of-type {\n",
              "        vertical-align: middle;\n",
              "    }\n",
              "\n",
              "    .dataframe tbody tr th {\n",
              "        vertical-align: top;\n",
              "    }\n",
              "\n",
              "    .dataframe thead th {\n",
              "        text-align: right;\n",
              "    }\n",
              "</style>\n",
              "<table border=\"1\" class=\"dataframe\">\n",
              "  <thead>\n",
              "    <tr style=\"text-align: right;\">\n",
              "      <th></th>\n",
              "      <th>periodo</th>\n",
              "      <th>fecha</th>\n",
              "      <th>hora</th>\n",
              "      <th>autopista</th>\n",
              "      <th>banda_y_o_ramal</th>\n",
              "      <th>pk</th>\n",
              "      <th>condiciones_meteorologicas</th>\n",
              "      <th>superficie_de_la_via</th>\n",
              "      <th>lesionados</th>\n",
              "      <th>fallecidos</th>\n",
              "      <th>tipo_de_siniestro</th>\n",
              "      <th>moto</th>\n",
              "      <th>liviano</th>\n",
              "      <th>bus</th>\n",
              "      <th>camion</th>\n",
              "    </tr>\n",
              "  </thead>\n",
              "  <tbody>\n",
              "    <tr>\n",
              "      <th>4941</th>\n",
              "      <td>201805</td>\n",
              "      <td>2018-05-21</td>\n",
              "      <td>9</td>\n",
              "      <td>AU FRONDIZI</td>\n",
              "      <td>ASCENDENTE</td>\n",
              "      <td>3500</td>\n",
              "      <td>BUENO</td>\n",
              "      <td>SECA</td>\n",
              "      <td>1</td>\n",
              "      <td>0</td>\n",
              "      <td>COLISION CON OBSTACULO FIJO</td>\n",
              "      <td>0</td>\n",
              "      <td>0</td>\n",
              "      <td>0</td>\n",
              "      <td>1</td>\n",
              "    </tr>\n",
              "    <tr>\n",
              "      <th>376</th>\n",
              "      <td>201405</td>\n",
              "      <td>2014-05-18</td>\n",
              "      <td>6</td>\n",
              "      <td>AU 25 DE MAYO</td>\n",
              "      <td>DESCENDENTE</td>\n",
              "      <td>2500</td>\n",
              "      <td>BUENO</td>\n",
              "      <td>SECA</td>\n",
              "      <td>0</td>\n",
              "      <td>0</td>\n",
              "      <td>COLISION CON OBSTACULO FIJO</td>\n",
              "      <td>0</td>\n",
              "      <td>1</td>\n",
              "      <td>0</td>\n",
              "      <td>0</td>\n",
              "    </tr>\n",
              "    <tr>\n",
              "      <th>3213</th>\n",
              "      <td>201610</td>\n",
              "      <td>2016-10-21</td>\n",
              "      <td>2</td>\n",
              "      <td>AV LUGONES</td>\n",
              "      <td>DESCENDENTE</td>\n",
              "      <td>5000</td>\n",
              "      <td>BUENO</td>\n",
              "      <td>MOJADA/HUMEDA</td>\n",
              "      <td>0</td>\n",
              "      <td>0</td>\n",
              "      <td>SINIESTRO DE UN SOLO VEHICULO / SIN COLISION</td>\n",
              "      <td>0</td>\n",
              "      <td>1</td>\n",
              "      <td>0</td>\n",
              "      <td>0</td>\n",
              "    </tr>\n",
              "    <tr>\n",
              "      <th>3904</th>\n",
              "      <td>201706</td>\n",
              "      <td>2017-06-06</td>\n",
              "      <td>11</td>\n",
              "      <td>AV LUGONES</td>\n",
              "      <td>DESCENDENTE</td>\n",
              "      <td>8500</td>\n",
              "      <td>BUENO</td>\n",
              "      <td>SECA</td>\n",
              "      <td>1</td>\n",
              "      <td>0</td>\n",
              "      <td>OBSTACULO NO FIJO</td>\n",
              "      <td>1</td>\n",
              "      <td>0</td>\n",
              "      <td>0</td>\n",
              "      <td>0</td>\n",
              "    </tr>\n",
              "    <tr>\n",
              "      <th>1077</th>\n",
              "      <td>201412</td>\n",
              "      <td>2014-12-12</td>\n",
              "      <td>9</td>\n",
              "      <td>AU 25 DE MAYO</td>\n",
              "      <td>DESCENDENTE</td>\n",
              "      <td>4700</td>\n",
              "      <td>BUENO</td>\n",
              "      <td>SECA</td>\n",
              "      <td>0</td>\n",
              "      <td>0</td>\n",
              "      <td>COLISION CON DOS O MAS VEHICULOS</td>\n",
              "      <td>0</td>\n",
              "      <td>1</td>\n",
              "      <td>0</td>\n",
              "      <td>1</td>\n",
              "    </tr>\n",
              "  </tbody>\n",
              "</table>\n",
              "</div>"
            ],
            "text/plain": [
              "     periodo       fecha  hora      autopista  ... moto liviano bus camion\n",
              "4941  201805  2018-05-21     9    AU FRONDIZI  ...    0       0   0      1\n",
              "376   201405  2014-05-18     6  AU 25 DE MAYO  ...    0       1   0      0\n",
              "3213  201610  2016-10-21     2     AV LUGONES  ...    0       1   0      0\n",
              "3904  201706  2017-06-06    11     AV LUGONES  ...    1       0   0      0\n",
              "1077  201412  2014-12-12     9  AU 25 DE MAYO  ...    0       1   0      1\n",
              "\n",
              "[5 rows x 15 columns]"
            ]
          },
          "metadata": {
            "tags": []
          },
          "execution_count": 34
        }
      ]
    },
    {
      "cell_type": "markdown",
      "metadata": {
        "colab_type": "text",
        "id": "KAehGPUKGKPo"
      },
      "source": [
        "###Se observan fechas en formato incorrecto, inconveniente de origen, y al dataset le agregaron un campo adicional para poder corregirlo."
      ]
    },
    {
      "cell_type": "code",
      "metadata": {
        "colab_type": "code",
        "id": "38GvP8TVXGtE",
        "outputId": "8303cea6-cfb8-4388-efb2-c1dc63916877",
        "colab": {
          "base_uri": "https://localhost:8080/",
          "height": 150
        }
      },
      "source": [
        "print(df.periodo.unique())"
      ],
      "execution_count": 0,
      "outputs": [
        {
          "output_type": "stream",
          "text": [
            "['201401' '201402' '201403' '201404' '201405' '201406' '201407' '201408'\n",
            " '201409' '201410' '201411' '201412' '201501' '201502' '201503' '201504'\n",
            " '201505' '201506' '201507' '201508' '201509' '201510' '201511' '201512'\n",
            " '201601' '201602' '201603' '201604' '201605' '201606' '201607' '201608'\n",
            " '201609' '201610' '201611' '201612' '201701' '201702' '201703' '201704'\n",
            " '201705' '201706' '201707' '201708' '201709' '201710' '201711' '201712'\n",
            " '201801' '201802' '201803' '201804' '201805' '201806' '201807' '201808'\n",
            " '201809' '201810' '201811' '201812' '201901' '201902' '201903' '201904']\n"
          ],
          "name": "stdout"
        }
      ]
    },
    {
      "cell_type": "code",
      "metadata": {
        "colab_type": "code",
        "id": "FnqI1fDcbcYR",
        "colab": {}
      },
      "source": [
        "from datetime import datetime\n",
        "\n",
        "def formatear_fecha(str_periodo, str_fecha, hora):\n",
        "  periodo_mes = str_periodo[-2:]\n",
        "  comps_fecha = str_fecha.split('-') #split por guión\n",
        "\n",
        "  if (periodo_mes == comps_fecha[1]):\n",
        "    return datetime(year=int(comps_fecha[0]), month=int(comps_fecha[1]), day=int(comps_fecha[2]), hour=hora)\n",
        "  else:\n",
        "    return datetime(year=int(comps_fecha[0]), month=int(comps_fecha[2]), day=int(comps_fecha[1]), hour=hora)\n",
        "    \n"
      ],
      "execution_count": 0,
      "outputs": []
    },
    {
      "cell_type": "code",
      "metadata": {
        "colab_type": "code",
        "id": "N9dO6AV88U5X",
        "outputId": "07f45b4a-8a6b-4ae3-b983-3b56404c7146",
        "colab": {
          "base_uri": "https://localhost:8080/",
          "height": 67
        }
      },
      "source": [
        "print(formatear_fecha('201802','2018-02-02',7))\n",
        "print(formatear_fecha('201802','2018-02-27',7))\n",
        "print(formatear_fecha('201802','2018-20-02',7))"
      ],
      "execution_count": 0,
      "outputs": [
        {
          "output_type": "stream",
          "text": [
            "2018-02-02 07:00:00\n",
            "2018-02-27 07:00:00\n",
            "2018-02-20 07:00:00\n"
          ],
          "name": "stdout"
        }
      ]
    },
    {
      "cell_type": "code",
      "metadata": {
        "colab_type": "code",
        "id": "ox1-GuIdDW8h",
        "colab": {}
      },
      "source": [
        "df['fecha_hora'] = df.apply(lambda row: formatear_fecha(row['periodo'], row['fecha'], row['hora']), axis=1)\n",
        "#df['dia_semana'] = df.apply(lambda row: row['fecha_hora'].weekday(), axis=1) # days = {0:'Mon',1:'Tues',2:'Weds',3:'Thurs',4:'Fri',5:'Sat',6:'Sun'}\n",
        "df['dia_semana']= df['fecha_hora'].dt.day_name()"
      ],
      "execution_count": 0,
      "outputs": []
    },
    {
      "cell_type": "code",
      "metadata": {
        "colab_type": "code",
        "id": "TPscfwEcL1aB",
        "outputId": "aa20b0a9-e922-4150-a9fd-55dc9fd8b8c7",
        "colab": {
          "base_uri": "https://localhost:8080/",
          "height": 365
        }
      },
      "source": [
        "df.sample(5)"
      ],
      "execution_count": 0,
      "outputs": [
        {
          "output_type": "execute_result",
          "data": {
            "text/html": [
              "<div>\n",
              "<style scoped>\n",
              "    .dataframe tbody tr th:only-of-type {\n",
              "        vertical-align: middle;\n",
              "    }\n",
              "\n",
              "    .dataframe tbody tr th {\n",
              "        vertical-align: top;\n",
              "    }\n",
              "\n",
              "    .dataframe thead th {\n",
              "        text-align: right;\n",
              "    }\n",
              "</style>\n",
              "<table border=\"1\" class=\"dataframe\">\n",
              "  <thead>\n",
              "    <tr style=\"text-align: right;\">\n",
              "      <th></th>\n",
              "      <th>periodo</th>\n",
              "      <th>fecha</th>\n",
              "      <th>hora</th>\n",
              "      <th>autopista</th>\n",
              "      <th>banda_y_o_ramal</th>\n",
              "      <th>pk</th>\n",
              "      <th>condiciones_meteorologicas</th>\n",
              "      <th>superficie_de_la_via</th>\n",
              "      <th>lesionados</th>\n",
              "      <th>fallecidos</th>\n",
              "      <th>tipo_de_siniestro</th>\n",
              "      <th>moto</th>\n",
              "      <th>liviano</th>\n",
              "      <th>bus</th>\n",
              "      <th>camion</th>\n",
              "      <th>fecha_hora</th>\n",
              "      <th>dia_semana</th>\n",
              "    </tr>\n",
              "  </thead>\n",
              "  <tbody>\n",
              "    <tr>\n",
              "      <th>5624</th>\n",
              "      <td>201902</td>\n",
              "      <td>2019-02-26</td>\n",
              "      <td>10</td>\n",
              "      <td>AU PERITO MORENO</td>\n",
              "      <td>ASCENDENTE</td>\n",
              "      <td>4200</td>\n",
              "      <td>BUENO</td>\n",
              "      <td>SECA</td>\n",
              "      <td>2</td>\n",
              "      <td>0</td>\n",
              "      <td>SINIESTRO DE UN SOLO VEHICULO / SIN COLISION</td>\n",
              "      <td>1</td>\n",
              "      <td>0</td>\n",
              "      <td>0</td>\n",
              "      <td>0</td>\n",
              "      <td>2019-02-26 10:00:00</td>\n",
              "      <td>Tuesday</td>\n",
              "    </tr>\n",
              "    <tr>\n",
              "      <th>918</th>\n",
              "      <td>201411</td>\n",
              "      <td>2014-02-11</td>\n",
              "      <td>7</td>\n",
              "      <td>AU 25 DE MAYO</td>\n",
              "      <td>ASCENDENTE</td>\n",
              "      <td>1500</td>\n",
              "      <td>LLUVIOSO</td>\n",
              "      <td>MOJADA/HUMEDA</td>\n",
              "      <td>0</td>\n",
              "      <td>0</td>\n",
              "      <td>COLISION CON OBSTACULO FIJO</td>\n",
              "      <td>0</td>\n",
              "      <td>1</td>\n",
              "      <td>0</td>\n",
              "      <td>0</td>\n",
              "      <td>2014-11-02 07:00:00</td>\n",
              "      <td>Sunday</td>\n",
              "    </tr>\n",
              "    <tr>\n",
              "      <th>3231</th>\n",
              "      <td>201610</td>\n",
              "      <td>2016-10-27</td>\n",
              "      <td>15</td>\n",
              "      <td>AU DELLEPIANE</td>\n",
              "      <td>ASCENDENTE</td>\n",
              "      <td>3900</td>\n",
              "      <td>BUENO</td>\n",
              "      <td>SECA</td>\n",
              "      <td>2</td>\n",
              "      <td>0</td>\n",
              "      <td>COLISION CON DOS O MAS VEHICULOS</td>\n",
              "      <td>2</td>\n",
              "      <td>0</td>\n",
              "      <td>0</td>\n",
              "      <td>0</td>\n",
              "      <td>2016-10-27 15:00:00</td>\n",
              "      <td>Thursday</td>\n",
              "    </tr>\n",
              "    <tr>\n",
              "      <th>1962</th>\n",
              "      <td>201509</td>\n",
              "      <td>2015-09-16</td>\n",
              "      <td>19</td>\n",
              "      <td>AU ILLIA</td>\n",
              "      <td>ASCENDENTE</td>\n",
              "      <td>2300</td>\n",
              "      <td>BUENO</td>\n",
              "      <td>SECA</td>\n",
              "      <td>0</td>\n",
              "      <td>0</td>\n",
              "      <td>COLISION CON DOS O MAS VEHICULOS</td>\n",
              "      <td>0</td>\n",
              "      <td>2</td>\n",
              "      <td>0</td>\n",
              "      <td>0</td>\n",
              "      <td>2015-09-16 19:00:00</td>\n",
              "      <td>Wednesday</td>\n",
              "    </tr>\n",
              "    <tr>\n",
              "      <th>272</th>\n",
              "      <td>201404</td>\n",
              "      <td>2014-12-04</td>\n",
              "      <td>21</td>\n",
              "      <td>AU PERTIO MORENO</td>\n",
              "      <td>ASCENDENTE</td>\n",
              "      <td>1400</td>\n",
              "      <td>BUENO</td>\n",
              "      <td>SECA</td>\n",
              "      <td>0</td>\n",
              "      <td>0</td>\n",
              "      <td>COLISION CON DOS O MAS VEHICULOS</td>\n",
              "      <td>0</td>\n",
              "      <td>2</td>\n",
              "      <td>0</td>\n",
              "      <td>0</td>\n",
              "      <td>2014-04-12 21:00:00</td>\n",
              "      <td>Saturday</td>\n",
              "    </tr>\n",
              "  </tbody>\n",
              "</table>\n",
              "</div>"
            ],
            "text/plain": [
              "     periodo       fecha  hora  ... camion          fecha_hora dia_semana\n",
              "5624  201902  2019-02-26    10  ...      0 2019-02-26 10:00:00    Tuesday\n",
              "918   201411  2014-02-11     7  ...      0 2014-11-02 07:00:00     Sunday\n",
              "3231  201610  2016-10-27    15  ...      0 2016-10-27 15:00:00   Thursday\n",
              "1962  201509  2015-09-16    19  ...      0 2015-09-16 19:00:00  Wednesday\n",
              "272   201404  2014-12-04    21  ...      0 2014-04-12 21:00:00   Saturday\n",
              "\n",
              "[5 rows x 17 columns]"
            ]
          },
          "metadata": {
            "tags": []
          },
          "execution_count": 39
        }
      ]
    },
    {
      "cell_type": "markdown",
      "metadata": {
        "colab_type": "text",
        "id": "Xb03yGLZG5nG"
      },
      "source": [
        "###Podemos transformar las columnas que intencionalmente cargamos como textos  al tipo más apropiado para transformar."
      ]
    },
    {
      "cell_type": "code",
      "metadata": {
        "colab_type": "code",
        "id": "3B3WQtM-7TMS",
        "colab": {}
      },
      "source": [
        "# reemplazamos los espacios por _ en nombres de columnas\n",
        "df.columns = [x.replace(' ', '_') for x in df.columns]"
      ],
      "execution_count": 0,
      "outputs": []
    },
    {
      "cell_type": "code",
      "metadata": {
        "colab_type": "code",
        "id": "I3g6jK7qFI5h",
        "outputId": "9573c9e0-24f0-46e1-dc47-c52d3b45883f",
        "colab": {
          "base_uri": "https://localhost:8080/",
          "height": 445
        }
      },
      "source": [
        "df_cols = df.columns\n",
        "print(df_cols)\n",
        "df_cols_reord = ['periodo', 'fecha_hora', 'dia_semana', 'hora', 'autopista', 'banda_y_o_ramal', 'pk',\n",
        "       'condiciones_meteorologicas', 'superficie_de_la_via', 'lesionados',\n",
        "       'fallecidos', 'tipo_de_siniestro', 'moto', 'liviano', 'bus', 'camion', 'fecha']\n",
        "#df.reindex(columns=df_cols_reord)\n",
        "df = df[df_cols_reord]\n",
        "df.sample(5)"
      ],
      "execution_count": 0,
      "outputs": [
        {
          "output_type": "stream",
          "text": [
            "Index(['periodo', 'fecha', 'hora', 'autopista', 'banda_y_o_ramal', 'pk',\n",
            "       'condiciones_meteorologicas', 'superficie_de_la_via', 'lesionados',\n",
            "       'fallecidos', 'tipo_de_siniestro', 'moto', 'liviano', 'bus', 'camion',\n",
            "       'fecha_hora', 'dia_semana'],\n",
            "      dtype='object')\n"
          ],
          "name": "stdout"
        },
        {
          "output_type": "execute_result",
          "data": {
            "text/html": [
              "<div>\n",
              "<style scoped>\n",
              "    .dataframe tbody tr th:only-of-type {\n",
              "        vertical-align: middle;\n",
              "    }\n",
              "\n",
              "    .dataframe tbody tr th {\n",
              "        vertical-align: top;\n",
              "    }\n",
              "\n",
              "    .dataframe thead th {\n",
              "        text-align: right;\n",
              "    }\n",
              "</style>\n",
              "<table border=\"1\" class=\"dataframe\">\n",
              "  <thead>\n",
              "    <tr style=\"text-align: right;\">\n",
              "      <th></th>\n",
              "      <th>periodo</th>\n",
              "      <th>fecha_hora</th>\n",
              "      <th>dia_semana</th>\n",
              "      <th>hora</th>\n",
              "      <th>autopista</th>\n",
              "      <th>banda_y_o_ramal</th>\n",
              "      <th>pk</th>\n",
              "      <th>condiciones_meteorologicas</th>\n",
              "      <th>superficie_de_la_via</th>\n",
              "      <th>lesionados</th>\n",
              "      <th>fallecidos</th>\n",
              "      <th>tipo_de_siniestro</th>\n",
              "      <th>moto</th>\n",
              "      <th>liviano</th>\n",
              "      <th>bus</th>\n",
              "      <th>camion</th>\n",
              "      <th>fecha</th>\n",
              "    </tr>\n",
              "  </thead>\n",
              "  <tbody>\n",
              "    <tr>\n",
              "      <th>3309</th>\n",
              "      <td>201611</td>\n",
              "      <td>2016-11-16 16:00:00</td>\n",
              "      <td>Wednesday</td>\n",
              "      <td>16</td>\n",
              "      <td>AV CANTILO</td>\n",
              "      <td>ASCENDENTE</td>\n",
              "      <td>8500</td>\n",
              "      <td>BUENO</td>\n",
              "      <td>SECA</td>\n",
              "      <td>0</td>\n",
              "      <td>0</td>\n",
              "      <td>COLISION CON DOS O MAS VEHICULOS</td>\n",
              "      <td>0</td>\n",
              "      <td>1</td>\n",
              "      <td>0</td>\n",
              "      <td>0</td>\n",
              "      <td>2016-11-16</td>\n",
              "    </tr>\n",
              "    <tr>\n",
              "      <th>2050</th>\n",
              "      <td>201510</td>\n",
              "      <td>2015-10-09 18:00:00</td>\n",
              "      <td>Friday</td>\n",
              "      <td>18</td>\n",
              "      <td>AU 25 DE MAYO</td>\n",
              "      <td>DESCENDENTE</td>\n",
              "      <td>4600</td>\n",
              "      <td>BUENO</td>\n",
              "      <td>SECA</td>\n",
              "      <td>1</td>\n",
              "      <td>0</td>\n",
              "      <td>COLISION CON DOS O MAS VEHICULOS</td>\n",
              "      <td>1</td>\n",
              "      <td>1</td>\n",
              "      <td>0</td>\n",
              "      <td>0</td>\n",
              "      <td>2015-09-10</td>\n",
              "    </tr>\n",
              "    <tr>\n",
              "      <th>454</th>\n",
              "      <td>201406</td>\n",
              "      <td>2014-06-08 15:00:00</td>\n",
              "      <td>Sunday</td>\n",
              "      <td>15</td>\n",
              "      <td>AU 25 DE MAYO</td>\n",
              "      <td>DESCENDENTE</td>\n",
              "      <td>3200</td>\n",
              "      <td>BUENO</td>\n",
              "      <td>SECA</td>\n",
              "      <td>1</td>\n",
              "      <td>0</td>\n",
              "      <td>COLISION CON DOS O MAS VEHICULOS</td>\n",
              "      <td>0</td>\n",
              "      <td>2</td>\n",
              "      <td>0</td>\n",
              "      <td>0</td>\n",
              "      <td>2014-08-06</td>\n",
              "    </tr>\n",
              "    <tr>\n",
              "      <th>3300</th>\n",
              "      <td>201611</td>\n",
              "      <td>2016-11-14 18:00:00</td>\n",
              "      <td>Monday</td>\n",
              "      <td>18</td>\n",
              "      <td>AU PERTIO MORENO</td>\n",
              "      <td>DESCENDENTE</td>\n",
              "      <td>5500</td>\n",
              "      <td>BUENO</td>\n",
              "      <td>SECA</td>\n",
              "      <td>0</td>\n",
              "      <td>0</td>\n",
              "      <td>COLISION CON DOS O MAS VEHICULOS</td>\n",
              "      <td>0</td>\n",
              "      <td>1</td>\n",
              "      <td>1</td>\n",
              "      <td>0</td>\n",
              "      <td>2016-11-14</td>\n",
              "    </tr>\n",
              "    <tr>\n",
              "      <th>3967</th>\n",
              "      <td>201707</td>\n",
              "      <td>2017-07-03 12:00:00</td>\n",
              "      <td>Monday</td>\n",
              "      <td>12</td>\n",
              "      <td>AU PERTIO MORENO</td>\n",
              "      <td>DESCENDENTE</td>\n",
              "      <td>4900</td>\n",
              "      <td>BUENO</td>\n",
              "      <td>SECA</td>\n",
              "      <td>0</td>\n",
              "      <td>0</td>\n",
              "      <td>OBSTACULO NO FIJO</td>\n",
              "      <td>0</td>\n",
              "      <td>2</td>\n",
              "      <td>0</td>\n",
              "      <td>0</td>\n",
              "      <td>2017-03-07</td>\n",
              "    </tr>\n",
              "  </tbody>\n",
              "</table>\n",
              "</div>"
            ],
            "text/plain": [
              "     periodo          fecha_hora dia_semana  ...  bus camion       fecha\n",
              "3309  201611 2016-11-16 16:00:00  Wednesday  ...    0      0  2016-11-16\n",
              "2050  201510 2015-10-09 18:00:00     Friday  ...    0      0  2015-09-10\n",
              "454   201406 2014-06-08 15:00:00     Sunday  ...    0      0  2014-08-06\n",
              "3300  201611 2016-11-14 18:00:00     Monday  ...    1      0  2016-11-14\n",
              "3967  201707 2017-07-03 12:00:00     Monday  ...    0      0  2017-03-07\n",
              "\n",
              "[5 rows x 17 columns]"
            ]
          },
          "metadata": {
            "tags": []
          },
          "execution_count": 41
        }
      ]
    },
    {
      "cell_type": "code",
      "metadata": {
        "colab_type": "code",
        "id": "V8mhR-eOX3zl",
        "outputId": "06c436ed-ff0d-41ec-a5a8-1704752ed07e",
        "colab": {
          "base_uri": "https://localhost:8080/",
          "height": 200
        }
      },
      "source": [
        "periodo_types = df.periodo.unique()\n",
        "df.periodo = pd.Categorical(df.periodo, categories=periodo_types, ordered=True)\n",
        "print(df.periodo.cat.categories)"
      ],
      "execution_count": 0,
      "outputs": [
        {
          "output_type": "stream",
          "text": [
            "Index(['201401', '201402', '201403', '201404', '201405', '201406', '201407',\n",
            "       '201408', '201409', '201410', '201411', '201412', '201501', '201502',\n",
            "       '201503', '201504', '201505', '201506', '201507', '201508', '201509',\n",
            "       '201510', '201511', '201512', '201601', '201602', '201603', '201604',\n",
            "       '201605', '201606', '201607', '201608', '201609', '201610', '201611',\n",
            "       '201612', '201701', '201702', '201703', '201704', '201705', '201706',\n",
            "       '201707', '201708', '201709', '201710', '201711', '201712', '201801',\n",
            "       '201802', '201803', '201804', '201805', '201806', '201807', '201808',\n",
            "       '201809', '201810', '201811', '201812', '201901', '201902', '201903',\n",
            "       '201904'],\n",
            "      dtype='object')\n"
          ],
          "name": "stdout"
        }
      ]
    },
    {
      "cell_type": "code",
      "metadata": {
        "colab_type": "code",
        "id": "sZyfytmbaWAG",
        "outputId": "08e072b9-5058-4eca-9e7b-dfaddc17cc2b",
        "colab": {
          "base_uri": "https://localhost:8080/",
          "height": 83
        }
      },
      "source": [
        "dia_semana_types = ['Sunday', 'Monday', 'Tuesday', 'Wednesday', 'Thursday', 'Friday', 'Saturday']\n",
        "print(dia_semana_types)\n",
        "df.dia_semana = pd.Categorical(df.dia_semana, categories=dia_semana_types, ordered=True)\n",
        "print(df.dia_semana.cat.categories)"
      ],
      "execution_count": 0,
      "outputs": [
        {
          "output_type": "stream",
          "text": [
            "['Sunday', 'Monday', 'Tuesday', 'Wednesday', 'Thursday', 'Friday', 'Saturday']\n",
            "Index(['Sunday', 'Monday', 'Tuesday', 'Wednesday', 'Thursday', 'Friday',\n",
            "       'Saturday'],\n",
            "      dtype='object')\n"
          ],
          "name": "stdout"
        }
      ]
    },
    {
      "cell_type": "code",
      "metadata": {
        "colab_type": "code",
        "id": "TIsenrI0a7OV",
        "outputId": "b38af506-0e78-43e8-e727-7498c4bb9c7e",
        "colab": {
          "base_uri": "https://localhost:8080/",
          "height": 67
        }
      },
      "source": [
        "df.hora = pd.Categorical(df.hora, ordered=True)\n",
        "print(df.hora.cat.categories)"
      ],
      "execution_count": 0,
      "outputs": [
        {
          "output_type": "stream",
          "text": [
            "Int64Index([ 0,  1,  2,  3,  4,  5,  6,  7,  8,  9, 10, 11, 12, 13, 14, 15, 16,\n",
            "            17, 18, 19, 20, 21, 22, 23],\n",
            "           dtype='int64')\n"
          ],
          "name": "stdout"
        }
      ]
    },
    {
      "cell_type": "code",
      "metadata": {
        "colab_type": "code",
        "id": "LkRJeioTa2Fo",
        "outputId": "30ab5500-9c34-4993-afa6-0a97860769e3",
        "colab": {
          "base_uri": "https://localhost:8080/",
          "height": 317
        }
      },
      "source": [
        "print (df.dtypes)\n"
      ],
      "execution_count": 0,
      "outputs": [
        {
          "output_type": "stream",
          "text": [
            "periodo                             category\n",
            "fecha_hora                    datetime64[ns]\n",
            "dia_semana                          category\n",
            "hora                                category\n",
            "autopista                             object\n",
            "banda_y_o_ramal                       object\n",
            "pk                                    object\n",
            "condiciones_meteorologicas            object\n",
            "superficie_de_la_via                  object\n",
            "lesionados                             int64\n",
            "fallecidos                             int64\n",
            "tipo_de_siniestro                     object\n",
            "moto                                   int64\n",
            "liviano                                int64\n",
            "bus                                    int64\n",
            "camion                                 int64\n",
            "fecha                                 object\n",
            "dtype: object\n"
          ],
          "name": "stdout"
        }
      ]
    },
    {
      "cell_type": "code",
      "metadata": {
        "colab_type": "code",
        "id": "83Q1bEOvGsHI",
        "outputId": "e63d5a4f-c9d4-4312-dc60-4f71158da8ae",
        "colab": {
          "base_uri": "https://localhost:8080/",
          "height": 383
        }
      },
      "source": [
        "# Chequeamos nulos y tipos de datos\n",
        "df.info()"
      ],
      "execution_count": 0,
      "outputs": [
        {
          "output_type": "stream",
          "text": [
            "<class 'pandas.core.frame.DataFrame'>\n",
            "RangeIndex: 5785 entries, 0 to 5784\n",
            "Data columns (total 17 columns):\n",
            "periodo                       5785 non-null category\n",
            "fecha_hora                    5785 non-null datetime64[ns]\n",
            "dia_semana                    5785 non-null category\n",
            "hora                          5785 non-null category\n",
            "autopista                     5785 non-null object\n",
            "banda_y_o_ramal               5785 non-null object\n",
            "pk                            5785 non-null object\n",
            "condiciones_meteorologicas    5785 non-null object\n",
            "superficie_de_la_via          5785 non-null object\n",
            "lesionados                    5785 non-null int64\n",
            "fallecidos                    5785 non-null int64\n",
            "tipo_de_siniestro             5785 non-null object\n",
            "moto                          5785 non-null int64\n",
            "liviano                       5785 non-null int64\n",
            "bus                           5785 non-null int64\n",
            "camion                        5785 non-null int64\n",
            "fecha                         5785 non-null object\n",
            "dtypes: category(3), datetime64[ns](1), int64(6), object(7)\n",
            "memory usage: 653.9+ KB\n"
          ],
          "name": "stdout"
        }
      ]
    },
    {
      "cell_type": "code",
      "metadata": {
        "colab_type": "code",
        "id": "sTHBYCJ4GsHb",
        "outputId": "92c53c97-94c3-4229-d41b-45b242d6d9d6",
        "colab": {
          "base_uri": "https://localhost:8080/",
          "height": 284
        }
      },
      "source": [
        "df.describe()"
      ],
      "execution_count": 0,
      "outputs": [
        {
          "output_type": "execute_result",
          "data": {
            "text/html": [
              "<div>\n",
              "<style scoped>\n",
              "    .dataframe tbody tr th:only-of-type {\n",
              "        vertical-align: middle;\n",
              "    }\n",
              "\n",
              "    .dataframe tbody tr th {\n",
              "        vertical-align: top;\n",
              "    }\n",
              "\n",
              "    .dataframe thead th {\n",
              "        text-align: right;\n",
              "    }\n",
              "</style>\n",
              "<table border=\"1\" class=\"dataframe\">\n",
              "  <thead>\n",
              "    <tr style=\"text-align: right;\">\n",
              "      <th></th>\n",
              "      <th>lesionados</th>\n",
              "      <th>fallecidos</th>\n",
              "      <th>moto</th>\n",
              "      <th>liviano</th>\n",
              "      <th>bus</th>\n",
              "      <th>camion</th>\n",
              "    </tr>\n",
              "  </thead>\n",
              "  <tbody>\n",
              "    <tr>\n",
              "      <th>count</th>\n",
              "      <td>5785.000000</td>\n",
              "      <td>5785.000000</td>\n",
              "      <td>5785.000000</td>\n",
              "      <td>5785.00000</td>\n",
              "      <td>5785.000000</td>\n",
              "      <td>5785.000000</td>\n",
              "    </tr>\n",
              "    <tr>\n",
              "      <th>mean</th>\n",
              "      <td>0.616768</td>\n",
              "      <td>0.008124</td>\n",
              "      <td>0.378047</td>\n",
              "      <td>1.21331</td>\n",
              "      <td>0.038029</td>\n",
              "      <td>0.146932</td>\n",
              "    </tr>\n",
              "    <tr>\n",
              "      <th>std</th>\n",
              "      <td>0.977918</td>\n",
              "      <td>0.091682</td>\n",
              "      <td>0.530242</td>\n",
              "      <td>0.99156</td>\n",
              "      <td>0.202693</td>\n",
              "      <td>0.410172</td>\n",
              "    </tr>\n",
              "    <tr>\n",
              "      <th>min</th>\n",
              "      <td>0.000000</td>\n",
              "      <td>0.000000</td>\n",
              "      <td>0.000000</td>\n",
              "      <td>0.00000</td>\n",
              "      <td>0.000000</td>\n",
              "      <td>0.000000</td>\n",
              "    </tr>\n",
              "    <tr>\n",
              "      <th>25%</th>\n",
              "      <td>0.000000</td>\n",
              "      <td>0.000000</td>\n",
              "      <td>0.000000</td>\n",
              "      <td>1.00000</td>\n",
              "      <td>0.000000</td>\n",
              "      <td>0.000000</td>\n",
              "    </tr>\n",
              "    <tr>\n",
              "      <th>50%</th>\n",
              "      <td>0.000000</td>\n",
              "      <td>0.000000</td>\n",
              "      <td>0.000000</td>\n",
              "      <td>1.00000</td>\n",
              "      <td>0.000000</td>\n",
              "      <td>0.000000</td>\n",
              "    </tr>\n",
              "    <tr>\n",
              "      <th>75%</th>\n",
              "      <td>1.000000</td>\n",
              "      <td>0.000000</td>\n",
              "      <td>1.000000</td>\n",
              "      <td>2.00000</td>\n",
              "      <td>0.000000</td>\n",
              "      <td>0.000000</td>\n",
              "    </tr>\n",
              "    <tr>\n",
              "      <th>max</th>\n",
              "      <td>17.000000</td>\n",
              "      <td>2.000000</td>\n",
              "      <td>3.000000</td>\n",
              "      <td>9.00000</td>\n",
              "      <td>2.000000</td>\n",
              "      <td>3.000000</td>\n",
              "    </tr>\n",
              "  </tbody>\n",
              "</table>\n",
              "</div>"
            ],
            "text/plain": [
              "        lesionados   fallecidos  ...          bus       camion\n",
              "count  5785.000000  5785.000000  ...  5785.000000  5785.000000\n",
              "mean      0.616768     0.008124  ...     0.038029     0.146932\n",
              "std       0.977918     0.091682  ...     0.202693     0.410172\n",
              "min       0.000000     0.000000  ...     0.000000     0.000000\n",
              "25%       0.000000     0.000000  ...     0.000000     0.000000\n",
              "50%       0.000000     0.000000  ...     0.000000     0.000000\n",
              "75%       1.000000     0.000000  ...     0.000000     0.000000\n",
              "max      17.000000     2.000000  ...     2.000000     3.000000\n",
              "\n",
              "[8 rows x 6 columns]"
            ]
          },
          "metadata": {
            "tags": []
          },
          "execution_count": 47
        }
      ]
    },
    {
      "cell_type": "code",
      "metadata": {
        "colab_type": "code",
        "id": "CPcm2kGsGsH_",
        "outputId": "e74a5206-34e6-4416-8224-3b0fd92a821a",
        "colab": {
          "base_uri": "https://localhost:8080/",
          "height": 581
        }
      },
      "source": [
        "# Revisamos los lesionados por autopista\n",
        "#df2=df[['autopista','lesionados']].groupby(['autopista']).aggregate([np.sum])\n",
        "df2=df[['autopista','lesionados']].groupby(['autopista']).sum().sort_values('lesionados', ascending=False)\n",
        "df2"
      ],
      "execution_count": 0,
      "outputs": [
        {
          "output_type": "execute_result",
          "data": {
            "text/html": [
              "<div>\n",
              "<style scoped>\n",
              "    .dataframe tbody tr th:only-of-type {\n",
              "        vertical-align: middle;\n",
              "    }\n",
              "\n",
              "    .dataframe tbody tr th {\n",
              "        vertical-align: top;\n",
              "    }\n",
              "\n",
              "    .dataframe thead th {\n",
              "        text-align: right;\n",
              "    }\n",
              "</style>\n",
              "<table border=\"1\" class=\"dataframe\">\n",
              "  <thead>\n",
              "    <tr style=\"text-align: right;\">\n",
              "      <th></th>\n",
              "      <th>lesionados</th>\n",
              "    </tr>\n",
              "    <tr>\n",
              "      <th>autopista</th>\n",
              "      <th></th>\n",
              "    </tr>\n",
              "  </thead>\n",
              "  <tbody>\n",
              "    <tr>\n",
              "      <th>AU 25 DE MAYO</th>\n",
              "      <td>1287</td>\n",
              "    </tr>\n",
              "    <tr>\n",
              "      <th>AU DELLEPIANE</th>\n",
              "      <td>586</td>\n",
              "    </tr>\n",
              "    <tr>\n",
              "      <th>AU PERTIO MORENO</th>\n",
              "      <td>542</td>\n",
              "    </tr>\n",
              "    <tr>\n",
              "      <th>AU FRONDIZI</th>\n",
              "      <td>405</td>\n",
              "    </tr>\n",
              "    <tr>\n",
              "      <th>AV LUGONES</th>\n",
              "      <td>231</td>\n",
              "    </tr>\n",
              "    <tr>\n",
              "      <th>AU ILLIA</th>\n",
              "      <td>177</td>\n",
              "    </tr>\n",
              "    <tr>\n",
              "      <th>AV CANTILO</th>\n",
              "      <td>132</td>\n",
              "    </tr>\n",
              "    <tr>\n",
              "      <th>AU PERITO MORENO</th>\n",
              "      <td>81</td>\n",
              "    </tr>\n",
              "    <tr>\n",
              "      <th>AV. LUGONES</th>\n",
              "      <td>50</td>\n",
              "    </tr>\n",
              "    <tr>\n",
              "      <th>AU CAMPORA</th>\n",
              "      <td>33</td>\n",
              "    </tr>\n",
              "    <tr>\n",
              "      <th>AV. CANTILO</th>\n",
              "      <td>27</td>\n",
              "    </tr>\n",
              "    <tr>\n",
              "      <th>DIST. 9 DE JULIO</th>\n",
              "      <td>13</td>\n",
              "    </tr>\n",
              "    <tr>\n",
              "      <th>TRANSICION RAMAL 2</th>\n",
              "      <td>2</td>\n",
              "    </tr>\n",
              "    <tr>\n",
              "      <th>TRANSICION RAMAL 3</th>\n",
              "      <td>2</td>\n",
              "    </tr>\n",
              "    <tr>\n",
              "      <th>DIST. UDAONDO</th>\n",
              "      <td>0</td>\n",
              "    </tr>\n",
              "    <tr>\n",
              "      <th>PTE. SCALABRINI ORTIZ</th>\n",
              "      <td>0</td>\n",
              "    </tr>\n",
              "    <tr>\n",
              "      <th>TRANSICION RAMAL 1</th>\n",
              "      <td>0</td>\n",
              "    </tr>\n",
              "  </tbody>\n",
              "</table>\n",
              "</div>"
            ],
            "text/plain": [
              "                       lesionados\n",
              "autopista                        \n",
              "AU 25 DE MAYO                1287\n",
              "AU DELLEPIANE                 586\n",
              "AU PERTIO MORENO              542\n",
              "AU FRONDIZI                   405\n",
              "AV LUGONES                    231\n",
              "AU ILLIA                      177\n",
              "AV CANTILO                    132\n",
              "AU PERITO MORENO               81\n",
              "AV. LUGONES                    50\n",
              "AU CAMPORA                     33\n",
              "AV. CANTILO                    27\n",
              "DIST. 9 DE JULIO               13\n",
              "TRANSICION RAMAL 2              2\n",
              "TRANSICION RAMAL 3              2\n",
              "DIST. UDAONDO                   0\n",
              "PTE. SCALABRINI ORTIZ           0\n",
              "TRANSICION RAMAL 1              0"
            ]
          },
          "metadata": {
            "tags": []
          },
          "execution_count": 48
        }
      ]
    },
    {
      "cell_type": "code",
      "metadata": {
        "colab_type": "code",
        "id": "Jb7uqzqQGsIE",
        "outputId": "d1351210-49cb-4a73-a05a-f784b3124073",
        "colab": {
          "base_uri": "https://localhost:8080/",
          "height": 50
        }
      },
      "source": [
        "# Chequeamos totales\n",
        "total_ori=np.sum(df.lesionados)\n",
        "total=np.sum(df2.lesionados)\n",
        "print(\"Total lesionados datos originales: %d\" % total_ori)\n",
        "print(\"Total lesionados por autopista: %d\" % total)"
      ],
      "execution_count": 0,
      "outputs": [
        {
          "output_type": "stream",
          "text": [
            "Total lesionados datos originales: 3568\n",
            "Total lesionados por autopista: 3568\n"
          ],
          "name": "stdout"
        }
      ]
    },
    {
      "cell_type": "code",
      "metadata": {
        "colab_type": "code",
        "id": "BbiCS0RxGsII",
        "outputId": "8c8dc111-3e9b-412d-f158-a96e4500eb9e",
        "colab": {
          "base_uri": "https://localhost:8080/",
          "height": 373
        }
      },
      "source": [
        "# Revisamos los lesionados por periodo\n",
        "df3=df[['periodo','lesionados']].groupby(['periodo']).sum().sort_values('lesionados', ascending=False).head(10)\n",
        "df3"
      ],
      "execution_count": 0,
      "outputs": [
        {
          "output_type": "execute_result",
          "data": {
            "text/html": [
              "<div>\n",
              "<style scoped>\n",
              "    .dataframe tbody tr th:only-of-type {\n",
              "        vertical-align: middle;\n",
              "    }\n",
              "\n",
              "    .dataframe tbody tr th {\n",
              "        vertical-align: top;\n",
              "    }\n",
              "\n",
              "    .dataframe thead th {\n",
              "        text-align: right;\n",
              "    }\n",
              "</style>\n",
              "<table border=\"1\" class=\"dataframe\">\n",
              "  <thead>\n",
              "    <tr style=\"text-align: right;\">\n",
              "      <th></th>\n",
              "      <th>lesionados</th>\n",
              "    </tr>\n",
              "    <tr>\n",
              "      <th>periodo</th>\n",
              "      <th></th>\n",
              "    </tr>\n",
              "  </thead>\n",
              "  <tbody>\n",
              "    <tr>\n",
              "      <th>201412</th>\n",
              "      <td>97</td>\n",
              "    </tr>\n",
              "    <tr>\n",
              "      <th>201712</th>\n",
              "      <td>93</td>\n",
              "    </tr>\n",
              "    <tr>\n",
              "      <th>201510</th>\n",
              "      <td>86</td>\n",
              "    </tr>\n",
              "    <tr>\n",
              "      <th>201512</th>\n",
              "      <td>79</td>\n",
              "    </tr>\n",
              "    <tr>\n",
              "      <th>201612</th>\n",
              "      <td>78</td>\n",
              "    </tr>\n",
              "    <tr>\n",
              "      <th>201704</th>\n",
              "      <td>77</td>\n",
              "    </tr>\n",
              "    <tr>\n",
              "      <th>201503</th>\n",
              "      <td>74</td>\n",
              "    </tr>\n",
              "    <tr>\n",
              "      <th>201508</th>\n",
              "      <td>72</td>\n",
              "    </tr>\n",
              "    <tr>\n",
              "      <th>201505</th>\n",
              "      <td>70</td>\n",
              "    </tr>\n",
              "    <tr>\n",
              "      <th>201706</th>\n",
              "      <td>69</td>\n",
              "    </tr>\n",
              "  </tbody>\n",
              "</table>\n",
              "</div>"
            ],
            "text/plain": [
              "         lesionados\n",
              "periodo            \n",
              "201412           97\n",
              "201712           93\n",
              "201510           86\n",
              "201512           79\n",
              "201612           78\n",
              "201704           77\n",
              "201503           74\n",
              "201508           72\n",
              "201505           70\n",
              "201706           69"
            ]
          },
          "metadata": {
            "tags": []
          },
          "execution_count": 50
        }
      ]
    },
    {
      "cell_type": "code",
      "metadata": {
        "id": "bavqug-maJP6",
        "colab_type": "code",
        "outputId": "b8c2ae7c-2884-4419-f2e1-43715f185d30",
        "colab": {
          "base_uri": "https://localhost:8080/",
          "height": 432
        }
      },
      "source": [
        "# Revisamos los lesionados por meses del año.\n",
        "df6=df[['fecha_hora','lesionados']].groupby(df.fecha_hora.dt.month).sum().sort_values('lesionados', ascending=False)\n",
        "df6"
      ],
      "execution_count": 0,
      "outputs": [
        {
          "output_type": "execute_result",
          "data": {
            "text/html": [
              "<div>\n",
              "<style scoped>\n",
              "    .dataframe tbody tr th:only-of-type {\n",
              "        vertical-align: middle;\n",
              "    }\n",
              "\n",
              "    .dataframe tbody tr th {\n",
              "        vertical-align: top;\n",
              "    }\n",
              "\n",
              "    .dataframe thead th {\n",
              "        text-align: right;\n",
              "    }\n",
              "</style>\n",
              "<table border=\"1\" class=\"dataframe\">\n",
              "  <thead>\n",
              "    <tr style=\"text-align: right;\">\n",
              "      <th></th>\n",
              "      <th>lesionados</th>\n",
              "    </tr>\n",
              "    <tr>\n",
              "      <th>fecha_hora</th>\n",
              "      <th></th>\n",
              "    </tr>\n",
              "  </thead>\n",
              "  <tbody>\n",
              "    <tr>\n",
              "      <th>12</th>\n",
              "      <td>384</td>\n",
              "    </tr>\n",
              "    <tr>\n",
              "      <th>4</th>\n",
              "      <td>350</td>\n",
              "    </tr>\n",
              "    <tr>\n",
              "      <th>3</th>\n",
              "      <td>325</td>\n",
              "    </tr>\n",
              "    <tr>\n",
              "      <th>5</th>\n",
              "      <td>315</td>\n",
              "    </tr>\n",
              "    <tr>\n",
              "      <th>10</th>\n",
              "      <td>302</td>\n",
              "    </tr>\n",
              "    <tr>\n",
              "      <th>8</th>\n",
              "      <td>294</td>\n",
              "    </tr>\n",
              "    <tr>\n",
              "      <th>1</th>\n",
              "      <td>291</td>\n",
              "    </tr>\n",
              "    <tr>\n",
              "      <th>2</th>\n",
              "      <td>279</td>\n",
              "    </tr>\n",
              "    <tr>\n",
              "      <th>11</th>\n",
              "      <td>279</td>\n",
              "    </tr>\n",
              "    <tr>\n",
              "      <th>9</th>\n",
              "      <td>269</td>\n",
              "    </tr>\n",
              "    <tr>\n",
              "      <th>7</th>\n",
              "      <td>247</td>\n",
              "    </tr>\n",
              "    <tr>\n",
              "      <th>6</th>\n",
              "      <td>233</td>\n",
              "    </tr>\n",
              "  </tbody>\n",
              "</table>\n",
              "</div>"
            ],
            "text/plain": [
              "            lesionados\n",
              "fecha_hora            \n",
              "12                 384\n",
              "4                  350\n",
              "3                  325\n",
              "5                  315\n",
              "10                 302\n",
              "8                  294\n",
              "1                  291\n",
              "2                  279\n",
              "11                 279\n",
              "9                  269\n",
              "7                  247\n",
              "6                  233"
            ]
          },
          "metadata": {
            "tags": []
          },
          "execution_count": 51
        }
      ]
    },
    {
      "cell_type": "code",
      "metadata": {
        "colab_type": "code",
        "id": "Uhe8mp8nGsIN",
        "outputId": "bc222d00-052e-4825-c047-0a7b7cce9a47",
        "colab": {
          "base_uri": "https://localhost:8080/",
          "height": 284
        }
      },
      "source": [
        "# Revisamos los lesionados por día de la semana\n",
        "df4=df[['dia_semana','lesionados']].groupby(['dia_semana']).sum().sort_values('lesionados', ascending=False)\n",
        "df4"
      ],
      "execution_count": 0,
      "outputs": [
        {
          "output_type": "execute_result",
          "data": {
            "text/html": [
              "<div>\n",
              "<style scoped>\n",
              "    .dataframe tbody tr th:only-of-type {\n",
              "        vertical-align: middle;\n",
              "    }\n",
              "\n",
              "    .dataframe tbody tr th {\n",
              "        vertical-align: top;\n",
              "    }\n",
              "\n",
              "    .dataframe thead th {\n",
              "        text-align: right;\n",
              "    }\n",
              "</style>\n",
              "<table border=\"1\" class=\"dataframe\">\n",
              "  <thead>\n",
              "    <tr style=\"text-align: right;\">\n",
              "      <th></th>\n",
              "      <th>lesionados</th>\n",
              "    </tr>\n",
              "    <tr>\n",
              "      <th>dia_semana</th>\n",
              "      <th></th>\n",
              "    </tr>\n",
              "  </thead>\n",
              "  <tbody>\n",
              "    <tr>\n",
              "      <th>Friday</th>\n",
              "      <td>597</td>\n",
              "    </tr>\n",
              "    <tr>\n",
              "      <th>Wednesday</th>\n",
              "      <td>568</td>\n",
              "    </tr>\n",
              "    <tr>\n",
              "      <th>Thursday</th>\n",
              "      <td>555</td>\n",
              "    </tr>\n",
              "    <tr>\n",
              "      <th>Sunday</th>\n",
              "      <td>504</td>\n",
              "    </tr>\n",
              "    <tr>\n",
              "      <th>Tuesday</th>\n",
              "      <td>502</td>\n",
              "    </tr>\n",
              "    <tr>\n",
              "      <th>Monday</th>\n",
              "      <td>472</td>\n",
              "    </tr>\n",
              "    <tr>\n",
              "      <th>Saturday</th>\n",
              "      <td>370</td>\n",
              "    </tr>\n",
              "  </tbody>\n",
              "</table>\n",
              "</div>"
            ],
            "text/plain": [
              "            lesionados\n",
              "dia_semana            \n",
              "Friday             597\n",
              "Wednesday          568\n",
              "Thursday           555\n",
              "Sunday             504\n",
              "Tuesday            502\n",
              "Monday             472\n",
              "Saturday           370"
            ]
          },
          "metadata": {
            "tags": []
          },
          "execution_count": 52
        }
      ]
    },
    {
      "cell_type": "code",
      "metadata": {
        "colab_type": "code",
        "id": "Bmhv8Ns_GsIU",
        "outputId": "070025a4-9db6-4591-a8cf-ed426b3fb593",
        "colab": {
          "base_uri": "https://localhost:8080/",
          "height": 373
        }
      },
      "source": [
        "# Revisamos los lesionados por hora\n",
        "display(df[['hora', 'lesionados']].groupby(['hora']).sum().sort_values('lesionados', ascending=False).head(10))\n"
      ],
      "execution_count": 0,
      "outputs": [
        {
          "output_type": "display_data",
          "data": {
            "text/html": [
              "<div>\n",
              "<style scoped>\n",
              "    .dataframe tbody tr th:only-of-type {\n",
              "        vertical-align: middle;\n",
              "    }\n",
              "\n",
              "    .dataframe tbody tr th {\n",
              "        vertical-align: top;\n",
              "    }\n",
              "\n",
              "    .dataframe thead th {\n",
              "        text-align: right;\n",
              "    }\n",
              "</style>\n",
              "<table border=\"1\" class=\"dataframe\">\n",
              "  <thead>\n",
              "    <tr style=\"text-align: right;\">\n",
              "      <th></th>\n",
              "      <th>lesionados</th>\n",
              "    </tr>\n",
              "    <tr>\n",
              "      <th>hora</th>\n",
              "      <th></th>\n",
              "    </tr>\n",
              "  </thead>\n",
              "  <tbody>\n",
              "    <tr>\n",
              "      <th>9</th>\n",
              "      <td>275</td>\n",
              "    </tr>\n",
              "    <tr>\n",
              "      <th>18</th>\n",
              "      <td>270</td>\n",
              "    </tr>\n",
              "    <tr>\n",
              "      <th>17</th>\n",
              "      <td>230</td>\n",
              "    </tr>\n",
              "    <tr>\n",
              "      <th>8</th>\n",
              "      <td>229</td>\n",
              "    </tr>\n",
              "    <tr>\n",
              "      <th>10</th>\n",
              "      <td>217</td>\n",
              "    </tr>\n",
              "    <tr>\n",
              "      <th>7</th>\n",
              "      <td>215</td>\n",
              "    </tr>\n",
              "    <tr>\n",
              "      <th>13</th>\n",
              "      <td>189</td>\n",
              "    </tr>\n",
              "    <tr>\n",
              "      <th>15</th>\n",
              "      <td>182</td>\n",
              "    </tr>\n",
              "    <tr>\n",
              "      <th>14</th>\n",
              "      <td>177</td>\n",
              "    </tr>\n",
              "    <tr>\n",
              "      <th>6</th>\n",
              "      <td>169</td>\n",
              "    </tr>\n",
              "  </tbody>\n",
              "</table>\n",
              "</div>"
            ],
            "text/plain": [
              "      lesionados\n",
              "hora            \n",
              "9            275\n",
              "18           270\n",
              "17           230\n",
              "8            229\n",
              "10           217\n",
              "7            215\n",
              "13           189\n",
              "15           182\n",
              "14           177\n",
              "6            169"
            ]
          },
          "metadata": {
            "tags": []
          }
        }
      ]
    },
    {
      "cell_type": "code",
      "metadata": {
        "colab_type": "code",
        "id": "fAXodCQ_GsIZ",
        "outputId": "a61379b6-b10a-4591-80cf-758356b11a59",
        "colab": {
          "base_uri": "https://localhost:8080/",
          "height": 1000
        }
      },
      "source": [
        "# Revisamos los lesionados por día y hora\n",
        "df5=df[['dia_semana', 'hora', 'lesionados']].groupby(['dia_semana', 'hora']).sum().sort_values('lesionados', ascending=False)\n",
        "display(df5.shape)\n",
        "display(df5)"
      ],
      "execution_count": 0,
      "outputs": [
        {
          "output_type": "display_data",
          "data": {
            "text/plain": [
              "(168, 1)"
            ]
          },
          "metadata": {
            "tags": []
          }
        },
        {
          "output_type": "display_data",
          "data": {
            "text/html": [
              "<div>\n",
              "<style scoped>\n",
              "    .dataframe tbody tr th:only-of-type {\n",
              "        vertical-align: middle;\n",
              "    }\n",
              "\n",
              "    .dataframe tbody tr th {\n",
              "        vertical-align: top;\n",
              "    }\n",
              "\n",
              "    .dataframe thead th {\n",
              "        text-align: right;\n",
              "    }\n",
              "</style>\n",
              "<table border=\"1\" class=\"dataframe\">\n",
              "  <thead>\n",
              "    <tr style=\"text-align: right;\">\n",
              "      <th></th>\n",
              "      <th></th>\n",
              "      <th>lesionados</th>\n",
              "    </tr>\n",
              "    <tr>\n",
              "      <th>dia_semana</th>\n",
              "      <th>hora</th>\n",
              "      <th></th>\n",
              "    </tr>\n",
              "  </thead>\n",
              "  <tbody>\n",
              "    <tr>\n",
              "      <th>Tuesday</th>\n",
              "      <th>9</th>\n",
              "      <td>64</td>\n",
              "    </tr>\n",
              "    <tr>\n",
              "      <th>Thursday</th>\n",
              "      <th>17</th>\n",
              "      <td>56</td>\n",
              "    </tr>\n",
              "    <tr>\n",
              "      <th>Wednesday</th>\n",
              "      <th>8</th>\n",
              "      <td>53</td>\n",
              "    </tr>\n",
              "    <tr>\n",
              "      <th>Monday</th>\n",
              "      <th>18</th>\n",
              "      <td>53</td>\n",
              "    </tr>\n",
              "    <tr>\n",
              "      <th>Wednesday</th>\n",
              "      <th>18</th>\n",
              "      <td>53</td>\n",
              "    </tr>\n",
              "    <tr>\n",
              "      <th rowspan=\"2\" valign=\"top\">Friday</th>\n",
              "      <th>17</th>\n",
              "      <td>52</td>\n",
              "    </tr>\n",
              "    <tr>\n",
              "      <th>18</th>\n",
              "      <td>50</td>\n",
              "    </tr>\n",
              "    <tr>\n",
              "      <th>Monday</th>\n",
              "      <th>10</th>\n",
              "      <td>50</td>\n",
              "    </tr>\n",
              "    <tr>\n",
              "      <th>Thursday</th>\n",
              "      <th>9</th>\n",
              "      <td>49</td>\n",
              "    </tr>\n",
              "    <tr>\n",
              "      <th>Friday</th>\n",
              "      <th>15</th>\n",
              "      <td>48</td>\n",
              "    </tr>\n",
              "    <tr>\n",
              "      <th rowspan=\"2\" valign=\"top\">Sunday</th>\n",
              "      <th>6</th>\n",
              "      <td>47</td>\n",
              "    </tr>\n",
              "    <tr>\n",
              "      <th>7</th>\n",
              "      <td>47</td>\n",
              "    </tr>\n",
              "    <tr>\n",
              "      <th>Thursday</th>\n",
              "      <th>14</th>\n",
              "      <td>46</td>\n",
              "    </tr>\n",
              "    <tr>\n",
              "      <th>Friday</th>\n",
              "      <th>9</th>\n",
              "      <td>45</td>\n",
              "    </tr>\n",
              "    <tr>\n",
              "      <th>Tuesday</th>\n",
              "      <th>10</th>\n",
              "      <td>45</td>\n",
              "    </tr>\n",
              "    <tr>\n",
              "      <th>Wednesday</th>\n",
              "      <th>9</th>\n",
              "      <td>44</td>\n",
              "    </tr>\n",
              "    <tr>\n",
              "      <th>Tuesday</th>\n",
              "      <th>8</th>\n",
              "      <td>44</td>\n",
              "    </tr>\n",
              "    <tr>\n",
              "      <th>Sunday</th>\n",
              "      <th>18</th>\n",
              "      <td>43</td>\n",
              "    </tr>\n",
              "    <tr>\n",
              "      <th>Saturday</th>\n",
              "      <th>6</th>\n",
              "      <td>41</td>\n",
              "    </tr>\n",
              "    <tr>\n",
              "      <th>Thursday</th>\n",
              "      <th>10</th>\n",
              "      <td>41</td>\n",
              "    </tr>\n",
              "    <tr>\n",
              "      <th>Monday</th>\n",
              "      <th>9</th>\n",
              "      <td>41</td>\n",
              "    </tr>\n",
              "    <tr>\n",
              "      <th>Friday</th>\n",
              "      <th>8</th>\n",
              "      <td>40</td>\n",
              "    </tr>\n",
              "    <tr>\n",
              "      <th rowspan=\"2\" valign=\"top\">Thursday</th>\n",
              "      <th>13</th>\n",
              "      <td>39</td>\n",
              "    </tr>\n",
              "    <tr>\n",
              "      <th>8</th>\n",
              "      <td>38</td>\n",
              "    </tr>\n",
              "    <tr>\n",
              "      <th rowspan=\"2\" valign=\"top\">Wednesday</th>\n",
              "      <th>11</th>\n",
              "      <td>38</td>\n",
              "    </tr>\n",
              "    <tr>\n",
              "      <th>17</th>\n",
              "      <td>37</td>\n",
              "    </tr>\n",
              "    <tr>\n",
              "      <th>Tuesday</th>\n",
              "      <th>14</th>\n",
              "      <td>37</td>\n",
              "    </tr>\n",
              "    <tr>\n",
              "      <th rowspan=\"2\" valign=\"top\">Wednesday</th>\n",
              "      <th>7</th>\n",
              "      <td>36</td>\n",
              "    </tr>\n",
              "    <tr>\n",
              "      <th>10</th>\n",
              "      <td>36</td>\n",
              "    </tr>\n",
              "    <tr>\n",
              "      <th>Thursday</th>\n",
              "      <th>18</th>\n",
              "      <td>36</td>\n",
              "    </tr>\n",
              "    <tr>\n",
              "      <th>Tuesday</th>\n",
              "      <th>13</th>\n",
              "      <td>35</td>\n",
              "    </tr>\n",
              "    <tr>\n",
              "      <th>Friday</th>\n",
              "      <th>6</th>\n",
              "      <td>34</td>\n",
              "    </tr>\n",
              "    <tr>\n",
              "      <th>Thursday</th>\n",
              "      <th>15</th>\n",
              "      <td>34</td>\n",
              "    </tr>\n",
              "    <tr>\n",
              "      <th>Friday</th>\n",
              "      <th>13</th>\n",
              "      <td>34</td>\n",
              "    </tr>\n",
              "    <tr>\n",
              "      <th>Monday</th>\n",
              "      <th>17</th>\n",
              "      <td>33</td>\n",
              "    </tr>\n",
              "    <tr>\n",
              "      <th>Friday</th>\n",
              "      <th>7</th>\n",
              "      <td>32</td>\n",
              "    </tr>\n",
              "    <tr>\n",
              "      <th>Sunday</th>\n",
              "      <th>21</th>\n",
              "      <td>31</td>\n",
              "    </tr>\n",
              "    <tr>\n",
              "      <th>Tuesday</th>\n",
              "      <th>17</th>\n",
              "      <td>31</td>\n",
              "    </tr>\n",
              "    <tr>\n",
              "      <th>Sunday</th>\n",
              "      <th>5</th>\n",
              "      <td>31</td>\n",
              "    </tr>\n",
              "    <tr>\n",
              "      <th>Friday</th>\n",
              "      <th>12</th>\n",
              "      <td>31</td>\n",
              "    </tr>\n",
              "    <tr>\n",
              "      <th>Thursday</th>\n",
              "      <th>16</th>\n",
              "      <td>31</td>\n",
              "    </tr>\n",
              "    <tr>\n",
              "      <th>Tuesday</th>\n",
              "      <th>7</th>\n",
              "      <td>30</td>\n",
              "    </tr>\n",
              "    <tr>\n",
              "      <th>Saturday</th>\n",
              "      <th>21</th>\n",
              "      <td>30</td>\n",
              "    </tr>\n",
              "    <tr>\n",
              "      <th>Thursday</th>\n",
              "      <th>7</th>\n",
              "      <td>30</td>\n",
              "    </tr>\n",
              "    <tr>\n",
              "      <th>Monday</th>\n",
              "      <th>7</th>\n",
              "      <td>30</td>\n",
              "    </tr>\n",
              "    <tr>\n",
              "      <th>Wednesday</th>\n",
              "      <th>13</th>\n",
              "      <td>30</td>\n",
              "    </tr>\n",
              "    <tr>\n",
              "      <th>Sunday</th>\n",
              "      <th>2</th>\n",
              "      <td>29</td>\n",
              "    </tr>\n",
              "    <tr>\n",
              "      <th>Monday</th>\n",
              "      <th>12</th>\n",
              "      <td>29</td>\n",
              "    </tr>\n",
              "    <tr>\n",
              "      <th>Thursday</th>\n",
              "      <th>19</th>\n",
              "      <td>29</td>\n",
              "    </tr>\n",
              "    <tr>\n",
              "      <th>Wednesday</th>\n",
              "      <th>15</th>\n",
              "      <td>29</td>\n",
              "    </tr>\n",
              "    <tr>\n",
              "      <th>...</th>\n",
              "      <th>...</th>\n",
              "      <td>...</td>\n",
              "    </tr>\n",
              "    <tr>\n",
              "      <th>Sunday</th>\n",
              "      <th>4</th>\n",
              "      <td>11</td>\n",
              "    </tr>\n",
              "    <tr>\n",
              "      <th rowspan=\"2\" valign=\"top\">Thursday</th>\n",
              "      <th>6</th>\n",
              "      <td>11</td>\n",
              "    </tr>\n",
              "    <tr>\n",
              "      <th>5</th>\n",
              "      <td>11</td>\n",
              "    </tr>\n",
              "    <tr>\n",
              "      <th>Sunday</th>\n",
              "      <th>10</th>\n",
              "      <td>11</td>\n",
              "    </tr>\n",
              "    <tr>\n",
              "      <th>Friday</th>\n",
              "      <th>23</th>\n",
              "      <td>11</td>\n",
              "    </tr>\n",
              "    <tr>\n",
              "      <th>Sunday</th>\n",
              "      <th>14</th>\n",
              "      <td>11</td>\n",
              "    </tr>\n",
              "    <tr>\n",
              "      <th rowspan=\"3\" valign=\"top\">Saturday</th>\n",
              "      <th>0</th>\n",
              "      <td>11</td>\n",
              "    </tr>\n",
              "    <tr>\n",
              "      <th>19</th>\n",
              "      <td>10</td>\n",
              "    </tr>\n",
              "    <tr>\n",
              "      <th>7</th>\n",
              "      <td>10</td>\n",
              "    </tr>\n",
              "    <tr>\n",
              "      <th>Tuesday</th>\n",
              "      <th>21</th>\n",
              "      <td>10</td>\n",
              "    </tr>\n",
              "    <tr>\n",
              "      <th>Saturday</th>\n",
              "      <th>4</th>\n",
              "      <td>10</td>\n",
              "    </tr>\n",
              "    <tr>\n",
              "      <th>Thursday</th>\n",
              "      <th>21</th>\n",
              "      <td>10</td>\n",
              "    </tr>\n",
              "    <tr>\n",
              "      <th>Friday</th>\n",
              "      <th>1</th>\n",
              "      <td>9</td>\n",
              "    </tr>\n",
              "    <tr>\n",
              "      <th>Saturday</th>\n",
              "      <th>10</th>\n",
              "      <td>9</td>\n",
              "    </tr>\n",
              "    <tr>\n",
              "      <th>Monday</th>\n",
              "      <th>5</th>\n",
              "      <td>9</td>\n",
              "    </tr>\n",
              "    <tr>\n",
              "      <th>Tuesday</th>\n",
              "      <th>23</th>\n",
              "      <td>9</td>\n",
              "    </tr>\n",
              "    <tr>\n",
              "      <th>Sunday</th>\n",
              "      <th>17</th>\n",
              "      <td>9</td>\n",
              "    </tr>\n",
              "    <tr>\n",
              "      <th rowspan=\"2\" valign=\"top\">Saturday</th>\n",
              "      <th>3</th>\n",
              "      <td>9</td>\n",
              "    </tr>\n",
              "    <tr>\n",
              "      <th>18</th>\n",
              "      <td>8</td>\n",
              "    </tr>\n",
              "    <tr>\n",
              "      <th>Sunday</th>\n",
              "      <th>1</th>\n",
              "      <td>8</td>\n",
              "    </tr>\n",
              "    <tr>\n",
              "      <th>Tuesday</th>\n",
              "      <th>5</th>\n",
              "      <td>8</td>\n",
              "    </tr>\n",
              "    <tr>\n",
              "      <th>Monday</th>\n",
              "      <th>23</th>\n",
              "      <td>8</td>\n",
              "    </tr>\n",
              "    <tr>\n",
              "      <th rowspan=\"2\" valign=\"top\">Friday</th>\n",
              "      <th>5</th>\n",
              "      <td>8</td>\n",
              "    </tr>\n",
              "    <tr>\n",
              "      <th>4</th>\n",
              "      <td>8</td>\n",
              "    </tr>\n",
              "    <tr>\n",
              "      <th rowspan=\"2\" valign=\"top\">Tuesday</th>\n",
              "      <th>6</th>\n",
              "      <td>8</td>\n",
              "    </tr>\n",
              "    <tr>\n",
              "      <th>4</th>\n",
              "      <td>8</td>\n",
              "    </tr>\n",
              "    <tr>\n",
              "      <th>Friday</th>\n",
              "      <th>2</th>\n",
              "      <td>7</td>\n",
              "    </tr>\n",
              "    <tr>\n",
              "      <th>Monday</th>\n",
              "      <th>1</th>\n",
              "      <td>6</td>\n",
              "    </tr>\n",
              "    <tr>\n",
              "      <th rowspan=\"2\" valign=\"top\">Saturday</th>\n",
              "      <th>14</th>\n",
              "      <td>6</td>\n",
              "    </tr>\n",
              "    <tr>\n",
              "      <th>20</th>\n",
              "      <td>5</td>\n",
              "    </tr>\n",
              "    <tr>\n",
              "      <th rowspan=\"2\" valign=\"top\">Thursday</th>\n",
              "      <th>0</th>\n",
              "      <td>5</td>\n",
              "    </tr>\n",
              "    <tr>\n",
              "      <th>2</th>\n",
              "      <td>5</td>\n",
              "    </tr>\n",
              "    <tr>\n",
              "      <th>Friday</th>\n",
              "      <th>0</th>\n",
              "      <td>5</td>\n",
              "    </tr>\n",
              "    <tr>\n",
              "      <th>Tuesday</th>\n",
              "      <th>1</th>\n",
              "      <td>5</td>\n",
              "    </tr>\n",
              "    <tr>\n",
              "      <th>Wednesday</th>\n",
              "      <th>3</th>\n",
              "      <td>4</td>\n",
              "    </tr>\n",
              "    <tr>\n",
              "      <th>Monday</th>\n",
              "      <th>0</th>\n",
              "      <td>4</td>\n",
              "    </tr>\n",
              "    <tr>\n",
              "      <th>Tuesday</th>\n",
              "      <th>2</th>\n",
              "      <td>4</td>\n",
              "    </tr>\n",
              "    <tr>\n",
              "      <th>Friday</th>\n",
              "      <th>3</th>\n",
              "      <td>4</td>\n",
              "    </tr>\n",
              "    <tr>\n",
              "      <th rowspan=\"2\" valign=\"top\">Monday</th>\n",
              "      <th>4</th>\n",
              "      <td>4</td>\n",
              "    </tr>\n",
              "    <tr>\n",
              "      <th>22</th>\n",
              "      <td>4</td>\n",
              "    </tr>\n",
              "    <tr>\n",
              "      <th>Wednesday</th>\n",
              "      <th>0</th>\n",
              "      <td>3</td>\n",
              "    </tr>\n",
              "    <tr>\n",
              "      <th rowspan=\"2\" valign=\"top\">Thursday</th>\n",
              "      <th>4</th>\n",
              "      <td>3</td>\n",
              "    </tr>\n",
              "    <tr>\n",
              "      <th>1</th>\n",
              "      <td>3</td>\n",
              "    </tr>\n",
              "    <tr>\n",
              "      <th>Wednesday</th>\n",
              "      <th>2</th>\n",
              "      <td>3</td>\n",
              "    </tr>\n",
              "    <tr>\n",
              "      <th>Monday</th>\n",
              "      <th>3</th>\n",
              "      <td>3</td>\n",
              "    </tr>\n",
              "    <tr>\n",
              "      <th rowspan=\"2\" valign=\"top\">Wednesday</th>\n",
              "      <th>4</th>\n",
              "      <td>3</td>\n",
              "    </tr>\n",
              "    <tr>\n",
              "      <th>1</th>\n",
              "      <td>2</td>\n",
              "    </tr>\n",
              "    <tr>\n",
              "      <th>Thursday</th>\n",
              "      <th>3</th>\n",
              "      <td>2</td>\n",
              "    </tr>\n",
              "    <tr>\n",
              "      <th rowspan=\"2\" valign=\"top\">Tuesday</th>\n",
              "      <th>0</th>\n",
              "      <td>2</td>\n",
              "    </tr>\n",
              "    <tr>\n",
              "      <th>3</th>\n",
              "      <td>0</td>\n",
              "    </tr>\n",
              "  </tbody>\n",
              "</table>\n",
              "<p>168 rows × 1 columns</p>\n",
              "</div>"
            ],
            "text/plain": [
              "                 lesionados\n",
              "dia_semana hora            \n",
              "Tuesday    9             64\n",
              "Thursday   17            56\n",
              "Wednesday  8             53\n",
              "Monday     18            53\n",
              "Wednesday  18            53\n",
              "Friday     17            52\n",
              "           18            50\n",
              "Monday     10            50\n",
              "Thursday   9             49\n",
              "Friday     15            48\n",
              "Sunday     6             47\n",
              "           7             47\n",
              "Thursday   14            46\n",
              "Friday     9             45\n",
              "Tuesday    10            45\n",
              "Wednesday  9             44\n",
              "Tuesday    8             44\n",
              "Sunday     18            43\n",
              "Saturday   6             41\n",
              "Thursday   10            41\n",
              "Monday     9             41\n",
              "Friday     8             40\n",
              "Thursday   13            39\n",
              "           8             38\n",
              "Wednesday  11            38\n",
              "           17            37\n",
              "Tuesday    14            37\n",
              "Wednesday  7             36\n",
              "           10            36\n",
              "Thursday   18            36\n",
              "Tuesday    13            35\n",
              "Friday     6             34\n",
              "Thursday   15            34\n",
              "Friday     13            34\n",
              "Monday     17            33\n",
              "Friday     7             32\n",
              "Sunday     21            31\n",
              "Tuesday    17            31\n",
              "Sunday     5             31\n",
              "Friday     12            31\n",
              "Thursday   16            31\n",
              "Tuesday    7             30\n",
              "Saturday   21            30\n",
              "Thursday   7             30\n",
              "Monday     7             30\n",
              "Wednesday  13            30\n",
              "Sunday     2             29\n",
              "Monday     12            29\n",
              "Thursday   19            29\n",
              "Wednesday  15            29\n",
              "...                     ...\n",
              "Sunday     4             11\n",
              "Thursday   6             11\n",
              "           5             11\n",
              "Sunday     10            11\n",
              "Friday     23            11\n",
              "Sunday     14            11\n",
              "Saturday   0             11\n",
              "           19            10\n",
              "           7             10\n",
              "Tuesday    21            10\n",
              "Saturday   4             10\n",
              "Thursday   21            10\n",
              "Friday     1              9\n",
              "Saturday   10             9\n",
              "Monday     5              9\n",
              "Tuesday    23             9\n",
              "Sunday     17             9\n",
              "Saturday   3              9\n",
              "           18             8\n",
              "Sunday     1              8\n",
              "Tuesday    5              8\n",
              "Monday     23             8\n",
              "Friday     5              8\n",
              "           4              8\n",
              "Tuesday    6              8\n",
              "           4              8\n",
              "Friday     2              7\n",
              "Monday     1              6\n",
              "Saturday   14             6\n",
              "           20             5\n",
              "Thursday   0              5\n",
              "           2              5\n",
              "Friday     0              5\n",
              "Tuesday    1              5\n",
              "Wednesday  3              4\n",
              "Monday     0              4\n",
              "Tuesday    2              4\n",
              "Friday     3              4\n",
              "Monday     4              4\n",
              "           22             4\n",
              "Wednesday  0              3\n",
              "Thursday   4              3\n",
              "           1              3\n",
              "Wednesday  2              3\n",
              "Monday     3              3\n",
              "Wednesday  4              3\n",
              "           1              2\n",
              "Thursday   3              2\n",
              "Tuesday    0              2\n",
              "           3              0\n",
              "\n",
              "[168 rows x 1 columns]"
            ]
          },
          "metadata": {
            "tags": []
          }
        }
      ]
    },
    {
      "cell_type": "code",
      "metadata": {
        "id": "pRIwIjK-E0SQ",
        "colab_type": "code",
        "outputId": "2c1a0abb-7f9a-4983-8b22-a3d416439ef5",
        "colab": {
          "base_uri": "https://localhost:8080/",
          "height": 236
        }
      },
      "source": [
        "df5=df[['dia_semana', 'hora', 'lesionados']].groupby(['dia_semana', 'hora']).sum().sort_values('lesionados', ascending=False)\n",
        "df5\n",
        "sns.set(rc={'figure.figsize':(12,3)})\n",
        "ax = sns.countplot(df['dia_semana'], label = \"Count\") \n",
        "plt.ylabel('Lesionados\\n (acumulado)')\n",
        "plt.xlabel('Días de semana');\n",
        "\n"
      ],
      "execution_count": 0,
      "outputs": [
        {
          "output_type": "display_data",
          "data": {
            "image/png": "[encoded data removed]",
            "text/plain": [
              "<Figure size 864x216 with 1 Axes>"
            ]
          },
          "metadata": {
            "tags": []
          }
        }
      ]
    },
    {
      "cell_type": "code",
      "metadata": {
        "id": "1FFsTN9dbkDi",
        "colab_type": "code",
        "outputId": "ba26b352-5c98-4f03-f9c2-369096314e95",
        "colab": {
          "base_uri": "https://localhost:8080/",
          "height": 472
        }
      },
      "source": [
        "fig, ax = plt.subplots(figsize=(10,5))\n",
        "df5.sort_values('lesionados', ascending=False).head(20).plot(ax=ax, kind='bar', subplots=True)"
      ],
      "execution_count": 0,
      "outputs": [
        {
          "output_type": "execute_result",
          "data": {
            "text/plain": [
              "array([<matplotlib.axes._subplots.AxesSubplot object at 0x7f19e171ecc0>],\n",
              "      dtype=object)"
            ]
          },
          "metadata": {
            "tags": []
          },
          "execution_count": 56
        },
        {
          "output_type": "display_data",
          "data": {
            "image/png": "[encoded data removed]",
            "text/plain": [
              "<Figure size 720x360 with 1 Axes>"
            ]
          },
          "metadata": {
            "tags": []
          }
        }
      ]
    },
    {
      "cell_type": "code",
      "metadata": {
        "id": "KOMUPVrmhmLT",
        "colab_type": "code",
        "outputId": "ad2d6c44-711e-452a-b162-f2961dd0ae5b",
        "colab": {
          "base_uri": "https://localhost:8080/",
          "height": 472
        }
      },
      "source": [
        "fig, ax = plt.subplots(figsize=(10,5))\n",
        "sns.set(rc={'figure.figsize':(10,5)})\n",
        "#sns.barplot(x='dia_semana')\n",
        "df5.sort_values('lesionados', ascending=False).head(15).plot(ax=ax, kind='bar', subplots=True)"
      ],
      "execution_count": 0,
      "outputs": [
        {
          "output_type": "execute_result",
          "data": {
            "text/plain": [
              "array([<matplotlib.axes._subplots.AxesSubplot object at 0x7f19dee67048>],\n",
              "      dtype=object)"
            ]
          },
          "metadata": {
            "tags": []
          },
          "execution_count": 57
        },
        {
          "output_type": "display_data",
          "data": {
            "image/png": "[encoded data removed]",
            "text/plain": [
              "<Figure size 720x360 with 1 Axes>"
            ]
          },
          "metadata": {
            "tags": []
          }
        }
      ]
    },
    {
      "cell_type": "code",
      "metadata": {
        "colab_type": "code",
        "id": "l9qzMBfTGsHi",
        "outputId": "b07bb13d-1f5e-40c5-eebe-92a5c54f9d2a",
        "colab": {
          "base_uri": "https://localhost:8080/",
          "height": 345
        }
      },
      "source": [
        "# Transformamos la columna de cantidad de lesionados a si hubo lesionados (1) o no (0)\n",
        "df.fallecidos = df.fallecidos.map(lambda x : 1 if x > 0 else 0)\n",
        "df.lesionados = df.lesionados.map(lambda x : 1 if x > 0 else 0)\n",
        "df.sample(5)"
      ],
      "execution_count": 0,
      "outputs": [
        {
          "output_type": "execute_result",
          "data": {
            "text/html": [
              "<div>\n",
              "<style scoped>\n",
              "    .dataframe tbody tr th:only-of-type {\n",
              "        vertical-align: middle;\n",
              "    }\n",
              "\n",
              "    .dataframe tbody tr th {\n",
              "        vertical-align: top;\n",
              "    }\n",
              "\n",
              "    .dataframe thead th {\n",
              "        text-align: right;\n",
              "    }\n",
              "</style>\n",
              "<table border=\"1\" class=\"dataframe\">\n",
              "  <thead>\n",
              "    <tr style=\"text-align: right;\">\n",
              "      <th></th>\n",
              "      <th>periodo</th>\n",
              "      <th>fecha_hora</th>\n",
              "      <th>dia_semana</th>\n",
              "      <th>hora</th>\n",
              "      <th>autopista</th>\n",
              "      <th>banda_y_o_ramal</th>\n",
              "      <th>pk</th>\n",
              "      <th>condiciones_meteorologicas</th>\n",
              "      <th>superficie_de_la_via</th>\n",
              "      <th>lesionados</th>\n",
              "      <th>fallecidos</th>\n",
              "      <th>tipo_de_siniestro</th>\n",
              "      <th>moto</th>\n",
              "      <th>liviano</th>\n",
              "      <th>bus</th>\n",
              "      <th>camion</th>\n",
              "      <th>fecha</th>\n",
              "    </tr>\n",
              "  </thead>\n",
              "  <tbody>\n",
              "    <tr>\n",
              "      <th>5513</th>\n",
              "      <td>201812</td>\n",
              "      <td>2018-12-31 05:00:00</td>\n",
              "      <td>Monday</td>\n",
              "      <td>5</td>\n",
              "      <td>AU PERITO MORENO</td>\n",
              "      <td>ASCENDENTE</td>\n",
              "      <td>5400</td>\n",
              "      <td>BUENO</td>\n",
              "      <td>SECA</td>\n",
              "      <td>0</td>\n",
              "      <td>0</td>\n",
              "      <td>SINIESTRO DE UN SOLO VEHICULO / SIN COLISION</td>\n",
              "      <td>1</td>\n",
              "      <td>0</td>\n",
              "      <td>0</td>\n",
              "      <td>0</td>\n",
              "      <td>2018-12-31</td>\n",
              "    </tr>\n",
              "    <tr>\n",
              "      <th>967</th>\n",
              "      <td>201411</td>\n",
              "      <td>2014-11-17 16:00:00</td>\n",
              "      <td>Monday</td>\n",
              "      <td>16</td>\n",
              "      <td>AU 25 DE MAYO</td>\n",
              "      <td>ASCENDENTE</td>\n",
              "      <td>5800</td>\n",
              "      <td>BUENO</td>\n",
              "      <td>SECA</td>\n",
              "      <td>0</td>\n",
              "      <td>0</td>\n",
              "      <td>COLISION CON DOS O MAS VEHICULOS</td>\n",
              "      <td>0</td>\n",
              "      <td>1</td>\n",
              "      <td>0</td>\n",
              "      <td>0</td>\n",
              "      <td>2014-11-17</td>\n",
              "    </tr>\n",
              "    <tr>\n",
              "      <th>1025</th>\n",
              "      <td>201412</td>\n",
              "      <td>2014-12-01 19:00:00</td>\n",
              "      <td>Monday</td>\n",
              "      <td>19</td>\n",
              "      <td>AU 25 DE MAYO</td>\n",
              "      <td>DESCENDENTE</td>\n",
              "      <td>8500</td>\n",
              "      <td>BUENO</td>\n",
              "      <td>SECA</td>\n",
              "      <td>1</td>\n",
              "      <td>0</td>\n",
              "      <td>COLISION CON DOS O MAS VEHICULOS</td>\n",
              "      <td>1</td>\n",
              "      <td>1</td>\n",
              "      <td>0</td>\n",
              "      <td>0</td>\n",
              "      <td>2014-01-12</td>\n",
              "    </tr>\n",
              "    <tr>\n",
              "      <th>4852</th>\n",
              "      <td>201804</td>\n",
              "      <td>2018-04-22 22:00:00</td>\n",
              "      <td>Sunday</td>\n",
              "      <td>22</td>\n",
              "      <td>AU CAMPORA</td>\n",
              "      <td>ASCENDENTE</td>\n",
              "      <td>500</td>\n",
              "      <td>LLUVIOSO</td>\n",
              "      <td>MOJADA/HUMEDA</td>\n",
              "      <td>1</td>\n",
              "      <td>0</td>\n",
              "      <td>COLISION CON OBSTACULO FIJO</td>\n",
              "      <td>0</td>\n",
              "      <td>0</td>\n",
              "      <td>0</td>\n",
              "      <td>1</td>\n",
              "      <td>2018-04-22</td>\n",
              "    </tr>\n",
              "    <tr>\n",
              "      <th>4109</th>\n",
              "      <td>201708</td>\n",
              "      <td>2017-08-18 18:00:00</td>\n",
              "      <td>Friday</td>\n",
              "      <td>18</td>\n",
              "      <td>AU FRONDIZI</td>\n",
              "      <td>DESCENDENTE</td>\n",
              "      <td>1800</td>\n",
              "      <td>BUENO</td>\n",
              "      <td>SECA</td>\n",
              "      <td>1</td>\n",
              "      <td>0</td>\n",
              "      <td>SINIESTRO DE UN SOLO VEHICULO / SIN COLISION</td>\n",
              "      <td>1</td>\n",
              "      <td>0</td>\n",
              "      <td>0</td>\n",
              "      <td>0</td>\n",
              "      <td>2017-08-18</td>\n",
              "    </tr>\n",
              "  </tbody>\n",
              "</table>\n",
              "</div>"
            ],
            "text/plain": [
              "     periodo          fecha_hora dia_semana  ... bus camion       fecha\n",
              "5513  201812 2018-12-31 05:00:00     Monday  ...   0      0  2018-12-31\n",
              "967   201411 2014-11-17 16:00:00     Monday  ...   0      0  2014-11-17\n",
              "1025  201412 2014-12-01 19:00:00     Monday  ...   0      0  2014-01-12\n",
              "4852  201804 2018-04-22 22:00:00     Sunday  ...   0      1  2018-04-22\n",
              "4109  201708 2017-08-18 18:00:00     Friday  ...   0      0  2017-08-18\n",
              "\n",
              "[5 rows x 17 columns]"
            ]
          },
          "metadata": {
            "tags": []
          },
          "execution_count": 58
        }
      ]
    },
    {
      "cell_type": "code",
      "metadata": {
        "colab_type": "code",
        "id": "ljPEP0xpGsHt",
        "outputId": "127f920d-63fe-4019-840e-0c37c2b6b782",
        "colab": {
          "base_uri": "https://localhost:8080/",
          "height": 422
        }
      },
      "source": [
        "# Vemos los lesionados\n",
        "color_palette_list = ['#009ACD', '#ADD8E6', '#63D1F4', '#0EBFE9',   \n",
        "                      '#C1F0F6', '#0099CC']\n",
        "lesionados = [df.loc[df['lesionados'] == 0].count()['lesionados'], df.loc[df['lesionados'] > 0].sum()['lesionados']]\n",
        "\n",
        "fig, ax = plt.subplots(figsize=(5,5))\n",
        "plt.rcParams['font.sans-serif'] = 'Arial'\n",
        "plt.rcParams['font.family'] = 'sans-serif'\n",
        "plt.rcParams['text.color'] = '#909090'\n",
        "plt.rcParams['axes.labelcolor']= '#909090'\n",
        "plt.rcParams['xtick.color'] = '#909090'\n",
        "plt.rcParams['ytick.color'] = '#909090'\n",
        "plt.rcParams['font.size']=16\n",
        "labels = ['No lesionados', \n",
        "        'Lesionados']\n",
        "explode=(0.01,0)\n",
        "ax.pie(lesionados, explode=explode, labels=labels,  \n",
        "       colors=color_palette_list[0:2], autopct='%1.0f%%', \n",
        "       shadow=False, startangle=0,   \n",
        "       pctdistance=1.2,labeldistance=1.4)\n",
        "ax.axis('equal')\n",
        "#ax.set_title(\"Lesionados en 5785 accidentes\")\n",
        "ax.legend(frameon=False, bbox_to_anchor=(1.5,0.8))"
      ],
      "execution_count": 0,
      "outputs": [
        {
          "output_type": "execute_result",
          "data": {
            "text/plain": [
              "<matplotlib.legend.Legend at 0x7f19ded21b38>"
            ]
          },
          "metadata": {
            "tags": []
          },
          "execution_count": 59
        },
        {
          "output_type": "stream",
          "text": [
            "/usr/local/lib/python3.6/dist-packages/matplotlib/font_manager.py:1241: UserWarning: findfont: Font family ['sans-serif'] not found. Falling back to DejaVu Sans.\n",
            "  (prop.get_family(), self.defaultFamily[fontext]))\n"
          ],
          "name": "stderr"
        },
        {
          "output_type": "display_data",
          "data": {
            "image/png": "[encoded data removed]",
            "text/plain": [
              "<Figure size 360x360 with 1 Axes>"
            ]
          },
          "metadata": {
            "tags": []
          }
        }
      ]
    },
    {
      "cell_type": "code",
      "metadata": {
        "id": "1Y_d2keTqxFJ",
        "colab_type": "code",
        "outputId": "25d64116-0ff1-4d53-c8d2-3c46b7e88460",
        "colab": {
          "base_uri": "https://localhost:8080/",
          "height": 507
        }
      },
      "source": [
        "# Relación entre features pre dummies\n",
        "sns.set(rc={'figure.figsize':(16,8)})\n",
        "# Usamos todas las features para un heatmap\n",
        "sns_hm=sns.heatmap(df.corr().round(2),annot=True, cbar=False)\n",
        "sns_hm.plot()\n",
        "# fig.savefig(\"features_heatmap.png\".format(), dpi=400)"
      ],
      "execution_count": 0,
      "outputs": [
        {
          "output_type": "execute_result",
          "data": {
            "text/plain": [
              "[]"
            ]
          },
          "metadata": {
            "tags": []
          },
          "execution_count": 60
        },
        {
          "output_type": "display_data",
          "data": {
            "image/png": "[encoded data removed]",
            "text/plain": [
              "<Figure size 1152x576 with 1 Axes>"
            ]
          },
          "metadata": {
            "tags": []
          }
        }
      ]
    },
    {
      "cell_type": "markdown",
      "metadata": {
        "colab_type": "text",
        "id": "VlInod556P4t"
      },
      "source": [
        "###Corregimos algunas textos duplicados dentro de las columnas\n",
        "####y procesamos textos para poder operar con dummies"
      ]
    },
    {
      "cell_type": "code",
      "metadata": {
        "colab_type": "code",
        "id": "wdU6gdCl6PZb",
        "outputId": "e7710e6c-c16e-45ad-d76b-322e9bb7b032",
        "colab": {
          "base_uri": "https://localhost:8080/",
          "height": 300
        }
      },
      "source": [
        "print(len(df.autopista.unique()),df.autopista.unique())\n",
        "print(len(df.banda_y_o_ramal.unique()),df.banda_y_o_ramal.unique())\n",
        "print(len(df.condiciones_meteorologicas.unique()),df.condiciones_meteorologicas.unique())\n",
        "print(len(df.superficie_de_la_via.unique()),df.superficie_de_la_via.unique())\n",
        "print(len(df.tipo_de_siniestro.unique()),df.tipo_de_siniestro.unique())\n"
      ],
      "execution_count": 0,
      "outputs": [
        {
          "output_type": "stream",
          "text": [
            "17 ['AU CAMPORA' 'AU DELLEPIANE' 'AU 25 DE MAYO' 'AU PERTIO MORENO'\n",
            " 'AV LUGONES' 'AV CANTILO' 'AU FRONDIZI' 'AU ILLIA' 'AV. LUGONES'\n",
            " 'AU PERITO MORENO' 'DIST. 9 DE JULIO' 'AV. CANTILO' 'TRANSICION RAMAL 2'\n",
            " 'DIST. UDAONDO' 'TRANSICION RAMAL 3' 'PTE. SCALABRINI ORTIZ'\n",
            " 'TRANSICION RAMAL 1']\n",
            "25 ['ASCENDENTE' 'DESCENDENTE' 'TRANSICION RAMAL 2' 'TRANSICION RAMAL 4'\n",
            " 'TRANSICION RAMAL 3' 'DISTRIBUIDOR 9 DE JULIO' 'PUENTE SCALABRINI ORTIZ'\n",
            " 'DISTRIBUIDOR UDAONDO' 'TRANSICION RAMAL 1' 'DISTRIBUIDOR DELLEPIANE'\n",
            " 'CARRIL METROBUS' 'PUENTE ANGEL LABRUNA' 'RAMAL 1 BIS' 'RAMAL 2 BIS'\n",
            " 'RAMAL 6' 'RAMAL DE ENLACE' ' ' 'RAMAL 4' 'RAMAL DE ENLACE (AU1/AU6)'\n",
            " 'RAMAL 3/4' 'RAMAL 8' 'RAMAL DE EGRESO' 'RAMAL 1' 'RAMAL 3'\n",
            " 'PTE. LABRUBNA']\n",
            "5 ['BUENO' 'LLUVIOSO' 'VIENTOS FUERTES' 'NIEBLA, BRUMA O HUMO' 'NIEBLA']\n",
            "4 ['SECA' 'MOJADA/HUMEDA' 'OTRO' 'INUNDADA']\n",
            "7 ['COLISION CON OBSTACULO FIJO' 'COLISION CON DOS O MAS VEHICULOS'\n",
            " 'OBSTACULO NO FIJO' 'SINIESTRO DE UN SOLO VEHICULO / SIN COLISION'\n",
            " 'OTRO TIPO DE SINIESTRO' 'OTRO' 'CON DOS O MAS VEHICULOS-IMPACTO TRASERO']\n"
          ],
          "name": "stdout"
        }
      ]
    },
    {
      "cell_type": "markdown",
      "metadata": {
        "colab_type": "text",
        "id": "mSirkYqgp1Qz"
      },
      "source": [
        "#### Debemos hacer un seguimiento para las variables dummies"
      ]
    },
    {
      "cell_type": "code",
      "metadata": {
        "colab_type": "code",
        "id": "TtPBa1SHp1Q2",
        "colab": {}
      },
      "source": [
        "\n",
        "# En esta lista estan las categorías por las que más adelante se generan las dummies segun el indice\n",
        "df.autopista = df.autopista.apply(lambda x: x.replace('PERTIO','PERITO').replace('.', '').replace(' ', '_').replace(\"'\", '').replace('/', '_'))\n",
        "df.banda_y_o_ramal = df.banda_y_o_ramal.apply(lambda x: x.replace('PTE. LABRUBNA','PUENTE ANGEL LABRUNA').replace('.', '').replace(' ', '_').replace(\"'\", '').replace('/', '_'))\n",
        "df.condiciones_meteorologicas = df.condiciones_meteorologicas.apply(lambda x: x.replace('.', '').replace(',', '').replace(' ', '_').replace(\"'\", '').replace('/', '_'))\n",
        "df.superficie_de_la_via = df.superficie_de_la_via.apply(lambda x: x.replace('.', '').replace(' ', '_').replace(\"'\", '').replace('/', '_'))\n",
        "df.tipo_de_siniestro = df.tipo_de_siniestro.apply(lambda x: x.replace('.', '').replace(' ', '_').replace(\"'\", '').replace('/', '_'))\n"
      ],
      "execution_count": 0,
      "outputs": []
    },
    {
      "cell_type": "code",
      "metadata": {
        "colab_type": "code",
        "id": "OTkzT5UkCCQo",
        "outputId": "3ae13ef1-d2c2-4ed9-af86-37112fdd78af",
        "colab": {
          "base_uri": "https://localhost:8080/",
          "height": 267
        }
      },
      "source": [
        "print(len(df.autopista.unique()),df.autopista.unique())\n",
        "print(len(df.banda_y_o_ramal.unique()),df.banda_y_o_ramal.unique())\n",
        "print(len(df.condiciones_meteorologicas.unique()),df.condiciones_meteorologicas.unique())\n",
        "print(len(df.superficie_de_la_via.unique()),df.superficie_de_la_via.unique())\n",
        "print(len(df.tipo_de_siniestro.unique()),df.tipo_de_siniestro.unique())\n"
      ],
      "execution_count": 0,
      "outputs": [
        {
          "output_type": "stream",
          "text": [
            "14 ['AU_CAMPORA' 'AU_DELLEPIANE' 'AU_25_DE_MAYO' 'AU_PERITO_MORENO'\n",
            " 'AV_LUGONES' 'AV_CANTILO' 'AU_FRONDIZI' 'AU_ILLIA' 'DIST_9_DE_JULIO'\n",
            " 'TRANSICION_RAMAL_2' 'DIST_UDAONDO' 'TRANSICION_RAMAL_3'\n",
            " 'PTE_SCALABRINI_ORTIZ' 'TRANSICION_RAMAL_1']\n",
            "24 ['ASCENDENTE' 'DESCENDENTE' 'TRANSICION_RAMAL_2' 'TRANSICION_RAMAL_4'\n",
            " 'TRANSICION_RAMAL_3' 'DISTRIBUIDOR_9_DE_JULIO' 'PUENTE_SCALABRINI_ORTIZ'\n",
            " 'DISTRIBUIDOR_UDAONDO' 'TRANSICION_RAMAL_1' 'DISTRIBUIDOR_DELLEPIANE'\n",
            " 'CARRIL_METROBUS' 'PUENTE_ANGEL_LABRUNA' 'RAMAL_1_BIS' 'RAMAL_2_BIS'\n",
            " 'RAMAL_6' 'RAMAL_DE_ENLACE' '_' 'RAMAL_4' 'RAMAL_DE_ENLACE_(AU1_AU6)'\n",
            " 'RAMAL_3_4' 'RAMAL_8' 'RAMAL_DE_EGRESO' 'RAMAL_1' 'RAMAL_3']\n",
            "5 ['BUENO' 'LLUVIOSO' 'VIENTOS_FUERTES' 'NIEBLA_BRUMA_O_HUMO' 'NIEBLA']\n",
            "4 ['SECA' 'MOJADA_HUMEDA' 'OTRO' 'INUNDADA']\n",
            "7 ['COLISION_CON_OBSTACULO_FIJO' 'COLISION_CON_DOS_O_MAS_VEHICULOS'\n",
            " 'OBSTACULO_NO_FIJO' 'SINIESTRO_DE_UN_SOLO_VEHICULO___SIN_COLISION'\n",
            " 'OTRO_TIPO_DE_SINIESTRO' 'OTRO' 'CON_DOS_O_MAS_VEHICULOS-IMPACTO_TRASERO']\n"
          ],
          "name": "stdout"
        }
      ]
    },
    {
      "cell_type": "code",
      "metadata": {
        "id": "53exhikAqxFY",
        "colab_type": "code",
        "outputId": "1ae23df8-a60d-49f3-a51c-f719462fff9e",
        "colab": {
          "base_uri": "https://localhost:8080/",
          "height": 200
        }
      },
      "source": [
        "# Generamos los dummies para 'explicación'\n",
        "df_dummies = pd.get_dummies(df, columns = ['fecha', 'dia_semana', 'autopista', 'banda_y_o_ramal', 'condiciones_meteorologicas','superficie_de_la_via','tipo_de_siniestro', 'periodo', 'fecha_hora', 'hora', 'pk'], drop_first = True)\n",
        "df_dummies.columns"
      ],
      "execution_count": 0,
      "outputs": [
        {
          "output_type": "execute_result",
          "data": {
            "text/plain": [
              "Index(['lesionados', 'fallecidos', 'moto', 'liviano', 'bus', 'camion',\n",
              "       'fecha_2014-01-02', 'fecha_2014-01-04', 'fecha_2014-01-05',\n",
              "       'fecha_2014-01-06',\n",
              "       ...\n",
              "       'pk_RAMPA ACCESO FINOCHIETTO', 'pk_RAMPA ACCESO P. COLON',\n",
              "       'pk_RAMPA EGRESO', 'pk_RAMPA EGRESO LIBERTADOR',\n",
              "       'pk_RAMPA SALIDA AV. CASEROS', 'pk_RAMPA SALIDA AV. HUERGO',\n",
              "       'pk_RAMPA SALIDA AV. HUERGO / LIVIANOS',\n",
              "       'pk_RAMPA SALIDA AV. M. DE OCA', 'pk_RAMPA SALIDA HUERGO LIVIANOS',\n",
              "       'pk_RAMPA SALIDA HUERGO PESADOS'],\n",
              "      dtype='object', length=7356)"
            ]
          },
          "metadata": {
            "tags": []
          },
          "execution_count": 65
        }
      ]
    },
    {
      "cell_type": "code",
      "metadata": {
        "colab_type": "code",
        "id": "UQLSyqoT8pLa",
        "colab": {}
      },
      "source": [
        "# Generamos los dummies para 'predicción'\n",
        "#df_dummies = pd.get_dummies(df, \n",
        "#                            columns = ['dia_semana', 'hora', 'autopista', 'banda_y_o_ramal', 'pk',\n",
        "#                                       'condiciones_meteorologicas', 'superficie_de_la_via',\n",
        "#                                       'tipo_de_siniestro'], drop_first = True)\n",
        "#df_dummies.columns"
      ],
      "execution_count": 0,
      "outputs": []
    },
    {
      "cell_type": "code",
      "metadata": {
        "id": "2Y8Rn9hYqxFb",
        "colab_type": "code",
        "outputId": "df8a3b7c-e789-44d4-cbff-cfafafeee552",
        "colab": {
          "base_uri": "https://localhost:8080/",
          "height": 327
        }
      },
      "source": [
        "# Reemplazamos\n",
        "df = df_dummies\n",
        "#df.columns\n",
        "print(df.shape)\n",
        "display(df.head())"
      ],
      "execution_count": 0,
      "outputs": [
        {
          "output_type": "stream",
          "text": [
            "(5785, 7356)\n"
          ],
          "name": "stdout"
        },
        {
          "output_type": "display_data",
          "data": {
            "text/html": [
              "<div>\n",
              "<style scoped>\n",
              "    .dataframe tbody tr th:only-of-type {\n",
              "        vertical-align: middle;\n",
              "    }\n",
              "\n",
              "    .dataframe tbody tr th {\n",
              "        vertical-align: top;\n",
              "    }\n",
              "\n",
              "    .dataframe thead th {\n",
              "        text-align: right;\n",
              "    }\n",
              "</style>\n",
              "<table border=\"1\" class=\"dataframe\">\n",
              "  <thead>\n",
              "    <tr style=\"text-align: right;\">\n",
              "      <th></th>\n",
              "      <th>lesionados</th>\n",
              "      <th>fallecidos</th>\n",
              "      <th>moto</th>\n",
              "      <th>liviano</th>\n",
              "      <th>bus</th>\n",
              "      <th>camion</th>\n",
              "      <th>fecha_2014-01-02</th>\n",
              "      <th>fecha_2014-01-04</th>\n",
              "      <th>fecha_2014-01-05</th>\n",
              "      <th>fecha_2014-01-06</th>\n",
              "      <th>fecha_2014-01-07</th>\n",
              "      <th>fecha_2014-01-08</th>\n",
              "      <th>fecha_2014-01-09</th>\n",
              "      <th>fecha_2014-01-10</th>\n",
              "      <th>fecha_2014-01-11</th>\n",
              "      <th>fecha_2014-01-12</th>\n",
              "      <th>fecha_2014-01-14</th>\n",
              "      <th>fecha_2014-01-15</th>\n",
              "      <th>fecha_2014-01-16</th>\n",
              "      <th>fecha_2014-01-17</th>\n",
              "      <th>fecha_2014-01-18</th>\n",
              "      <th>fecha_2014-01-19</th>\n",
              "      <th>fecha_2014-01-20</th>\n",
              "      <th>fecha_2014-01-21</th>\n",
              "      <th>fecha_2014-01-23</th>\n",
              "      <th>fecha_2014-01-24</th>\n",
              "      <th>fecha_2014-01-25</th>\n",
              "      <th>fecha_2014-01-26</th>\n",
              "      <th>fecha_2014-01-27</th>\n",
              "      <th>fecha_2014-01-28</th>\n",
              "      <th>fecha_2014-01-29</th>\n",
              "      <th>fecha_2014-01-30</th>\n",
              "      <th>fecha_2014-01-31</th>\n",
              "      <th>fecha_2014-02-02</th>\n",
              "      <th>fecha_2014-02-04</th>\n",
              "      <th>fecha_2014-02-06</th>\n",
              "      <th>fecha_2014-02-07</th>\n",
              "      <th>fecha_2014-02-08</th>\n",
              "      <th>fecha_2014-02-09</th>\n",
              "      <th>fecha_2014-02-10</th>\n",
              "      <th>...</th>\n",
              "      <th>pk_9300</th>\n",
              "      <th>pk_9400</th>\n",
              "      <th>pk_9500</th>\n",
              "      <th>pk_9550</th>\n",
              "      <th>pk_9600</th>\n",
              "      <th>pk_9700</th>\n",
              "      <th>pk_9800</th>\n",
              "      <th>pk_9900</th>\n",
              "      <th>pk_D9J-R2/R2BIS</th>\n",
              "      <th>pk_D9J-R2BIS</th>\n",
              "      <th>pk_D9J-R4</th>\n",
              "      <th>pk_DDEL-R14</th>\n",
              "      <th>pk_PTE. ANGEL LABRUNA</th>\n",
              "      <th>pk_PUENTE A. LABRUNA</th>\n",
              "      <th>pk_PUENTE S. ORTIZ</th>\n",
              "      <th>pk_RAMAL 1</th>\n",
              "      <th>pk_RAMAL 12</th>\n",
              "      <th>pk_RAMAL 1BIS</th>\n",
              "      <th>pk_RAMAL 2</th>\n",
              "      <th>pk_RAMAL 2/1</th>\n",
              "      <th>pk_RAMAL 2/2BIS</th>\n",
              "      <th>pk_RAMAL 2BIS</th>\n",
              "      <th>pk_RAMAL 3</th>\n",
              "      <th>pk_RAMAL 4</th>\n",
              "      <th>pk_RAMAL 5</th>\n",
              "      <th>pk_RAMAL 6</th>\n",
              "      <th>pk_RAMAL 7</th>\n",
              "      <th>pk_RAMAL 8</th>\n",
              "      <th>pk_RAMAL ENLACE</th>\n",
              "      <th>pk_RAMPA ACCESO</th>\n",
              "      <th>pk_RAMPA ACCESO FINOCHIETTO</th>\n",
              "      <th>pk_RAMPA ACCESO P. COLON</th>\n",
              "      <th>pk_RAMPA EGRESO</th>\n",
              "      <th>pk_RAMPA EGRESO LIBERTADOR</th>\n",
              "      <th>pk_RAMPA SALIDA AV. CASEROS</th>\n",
              "      <th>pk_RAMPA SALIDA AV. HUERGO</th>\n",
              "      <th>pk_RAMPA SALIDA AV. HUERGO / LIVIANOS</th>\n",
              "      <th>pk_RAMPA SALIDA AV. M. DE OCA</th>\n",
              "      <th>pk_RAMPA SALIDA HUERGO LIVIANOS</th>\n",
              "      <th>pk_RAMPA SALIDA HUERGO PESADOS</th>\n",
              "    </tr>\n",
              "  </thead>\n",
              "  <tbody>\n",
              "    <tr>\n",
              "      <th>0</th>\n",
              "      <td>1</td>\n",
              "      <td>0</td>\n",
              "      <td>0</td>\n",
              "      <td>1</td>\n",
              "      <td>0</td>\n",
              "      <td>0</td>\n",
              "      <td>0</td>\n",
              "      <td>0</td>\n",
              "      <td>0</td>\n",
              "      <td>0</td>\n",
              "      <td>0</td>\n",
              "      <td>0</td>\n",
              "      <td>0</td>\n",
              "      <td>0</td>\n",
              "      <td>0</td>\n",
              "      <td>0</td>\n",
              "      <td>0</td>\n",
              "      <td>0</td>\n",
              "      <td>0</td>\n",
              "      <td>0</td>\n",
              "      <td>0</td>\n",
              "      <td>0</td>\n",
              "      <td>0</td>\n",
              "      <td>0</td>\n",
              "      <td>0</td>\n",
              "      <td>0</td>\n",
              "      <td>0</td>\n",
              "      <td>0</td>\n",
              "      <td>0</td>\n",
              "      <td>0</td>\n",
              "      <td>0</td>\n",
              "      <td>0</td>\n",
              "      <td>0</td>\n",
              "      <td>0</td>\n",
              "      <td>0</td>\n",
              "      <td>0</td>\n",
              "      <td>0</td>\n",
              "      <td>0</td>\n",
              "      <td>0</td>\n",
              "      <td>0</td>\n",
              "      <td>...</td>\n",
              "      <td>0</td>\n",
              "      <td>0</td>\n",
              "      <td>0</td>\n",
              "      <td>0</td>\n",
              "      <td>0</td>\n",
              "      <td>0</td>\n",
              "      <td>0</td>\n",
              "      <td>0</td>\n",
              "      <td>0</td>\n",
              "      <td>0</td>\n",
              "      <td>0</td>\n",
              "      <td>0</td>\n",
              "      <td>0</td>\n",
              "      <td>0</td>\n",
              "      <td>0</td>\n",
              "      <td>0</td>\n",
              "      <td>0</td>\n",
              "      <td>0</td>\n",
              "      <td>0</td>\n",
              "      <td>0</td>\n",
              "      <td>0</td>\n",
              "      <td>0</td>\n",
              "      <td>0</td>\n",
              "      <td>0</td>\n",
              "      <td>0</td>\n",
              "      <td>0</td>\n",
              "      <td>0</td>\n",
              "      <td>0</td>\n",
              "      <td>0</td>\n",
              "      <td>0</td>\n",
              "      <td>0</td>\n",
              "      <td>0</td>\n",
              "      <td>0</td>\n",
              "      <td>0</td>\n",
              "      <td>0</td>\n",
              "      <td>0</td>\n",
              "      <td>0</td>\n",
              "      <td>0</td>\n",
              "      <td>0</td>\n",
              "      <td>0</td>\n",
              "    </tr>\n",
              "    <tr>\n",
              "      <th>1</th>\n",
              "      <td>0</td>\n",
              "      <td>0</td>\n",
              "      <td>0</td>\n",
              "      <td>1</td>\n",
              "      <td>0</td>\n",
              "      <td>0</td>\n",
              "      <td>0</td>\n",
              "      <td>0</td>\n",
              "      <td>0</td>\n",
              "      <td>0</td>\n",
              "      <td>0</td>\n",
              "      <td>0</td>\n",
              "      <td>0</td>\n",
              "      <td>0</td>\n",
              "      <td>0</td>\n",
              "      <td>0</td>\n",
              "      <td>0</td>\n",
              "      <td>0</td>\n",
              "      <td>0</td>\n",
              "      <td>0</td>\n",
              "      <td>0</td>\n",
              "      <td>0</td>\n",
              "      <td>0</td>\n",
              "      <td>0</td>\n",
              "      <td>0</td>\n",
              "      <td>0</td>\n",
              "      <td>0</td>\n",
              "      <td>0</td>\n",
              "      <td>0</td>\n",
              "      <td>0</td>\n",
              "      <td>0</td>\n",
              "      <td>0</td>\n",
              "      <td>0</td>\n",
              "      <td>0</td>\n",
              "      <td>0</td>\n",
              "      <td>0</td>\n",
              "      <td>0</td>\n",
              "      <td>0</td>\n",
              "      <td>0</td>\n",
              "      <td>0</td>\n",
              "      <td>...</td>\n",
              "      <td>0</td>\n",
              "      <td>0</td>\n",
              "      <td>0</td>\n",
              "      <td>0</td>\n",
              "      <td>0</td>\n",
              "      <td>0</td>\n",
              "      <td>0</td>\n",
              "      <td>0</td>\n",
              "      <td>0</td>\n",
              "      <td>0</td>\n",
              "      <td>0</td>\n",
              "      <td>0</td>\n",
              "      <td>0</td>\n",
              "      <td>0</td>\n",
              "      <td>0</td>\n",
              "      <td>0</td>\n",
              "      <td>0</td>\n",
              "      <td>0</td>\n",
              "      <td>0</td>\n",
              "      <td>0</td>\n",
              "      <td>0</td>\n",
              "      <td>0</td>\n",
              "      <td>0</td>\n",
              "      <td>0</td>\n",
              "      <td>0</td>\n",
              "      <td>0</td>\n",
              "      <td>0</td>\n",
              "      <td>0</td>\n",
              "      <td>0</td>\n",
              "      <td>0</td>\n",
              "      <td>0</td>\n",
              "      <td>0</td>\n",
              "      <td>0</td>\n",
              "      <td>0</td>\n",
              "      <td>0</td>\n",
              "      <td>0</td>\n",
              "      <td>0</td>\n",
              "      <td>0</td>\n",
              "      <td>0</td>\n",
              "      <td>0</td>\n",
              "    </tr>\n",
              "    <tr>\n",
              "      <th>2</th>\n",
              "      <td>1</td>\n",
              "      <td>0</td>\n",
              "      <td>0</td>\n",
              "      <td>2</td>\n",
              "      <td>0</td>\n",
              "      <td>0</td>\n",
              "      <td>0</td>\n",
              "      <td>0</td>\n",
              "      <td>0</td>\n",
              "      <td>0</td>\n",
              "      <td>0</td>\n",
              "      <td>0</td>\n",
              "      <td>0</td>\n",
              "      <td>0</td>\n",
              "      <td>0</td>\n",
              "      <td>0</td>\n",
              "      <td>0</td>\n",
              "      <td>0</td>\n",
              "      <td>0</td>\n",
              "      <td>0</td>\n",
              "      <td>0</td>\n",
              "      <td>0</td>\n",
              "      <td>0</td>\n",
              "      <td>0</td>\n",
              "      <td>0</td>\n",
              "      <td>0</td>\n",
              "      <td>0</td>\n",
              "      <td>0</td>\n",
              "      <td>0</td>\n",
              "      <td>0</td>\n",
              "      <td>0</td>\n",
              "      <td>0</td>\n",
              "      <td>0</td>\n",
              "      <td>0</td>\n",
              "      <td>0</td>\n",
              "      <td>0</td>\n",
              "      <td>0</td>\n",
              "      <td>0</td>\n",
              "      <td>0</td>\n",
              "      <td>0</td>\n",
              "      <td>...</td>\n",
              "      <td>0</td>\n",
              "      <td>0</td>\n",
              "      <td>0</td>\n",
              "      <td>0</td>\n",
              "      <td>0</td>\n",
              "      <td>0</td>\n",
              "      <td>0</td>\n",
              "      <td>0</td>\n",
              "      <td>0</td>\n",
              "      <td>0</td>\n",
              "      <td>0</td>\n",
              "      <td>0</td>\n",
              "      <td>0</td>\n",
              "      <td>0</td>\n",
              "      <td>0</td>\n",
              "      <td>0</td>\n",
              "      <td>0</td>\n",
              "      <td>0</td>\n",
              "      <td>0</td>\n",
              "      <td>0</td>\n",
              "      <td>0</td>\n",
              "      <td>0</td>\n",
              "      <td>0</td>\n",
              "      <td>0</td>\n",
              "      <td>0</td>\n",
              "      <td>0</td>\n",
              "      <td>0</td>\n",
              "      <td>0</td>\n",
              "      <td>0</td>\n",
              "      <td>0</td>\n",
              "      <td>0</td>\n",
              "      <td>0</td>\n",
              "      <td>0</td>\n",
              "      <td>0</td>\n",
              "      <td>0</td>\n",
              "      <td>0</td>\n",
              "      <td>0</td>\n",
              "      <td>0</td>\n",
              "      <td>0</td>\n",
              "      <td>0</td>\n",
              "    </tr>\n",
              "    <tr>\n",
              "      <th>3</th>\n",
              "      <td>0</td>\n",
              "      <td>0</td>\n",
              "      <td>0</td>\n",
              "      <td>0</td>\n",
              "      <td>0</td>\n",
              "      <td>1</td>\n",
              "      <td>0</td>\n",
              "      <td>0</td>\n",
              "      <td>0</td>\n",
              "      <td>0</td>\n",
              "      <td>0</td>\n",
              "      <td>0</td>\n",
              "      <td>0</td>\n",
              "      <td>0</td>\n",
              "      <td>0</td>\n",
              "      <td>0</td>\n",
              "      <td>0</td>\n",
              "      <td>0</td>\n",
              "      <td>0</td>\n",
              "      <td>0</td>\n",
              "      <td>0</td>\n",
              "      <td>0</td>\n",
              "      <td>0</td>\n",
              "      <td>0</td>\n",
              "      <td>0</td>\n",
              "      <td>0</td>\n",
              "      <td>0</td>\n",
              "      <td>0</td>\n",
              "      <td>0</td>\n",
              "      <td>0</td>\n",
              "      <td>0</td>\n",
              "      <td>0</td>\n",
              "      <td>0</td>\n",
              "      <td>0</td>\n",
              "      <td>0</td>\n",
              "      <td>0</td>\n",
              "      <td>0</td>\n",
              "      <td>0</td>\n",
              "      <td>0</td>\n",
              "      <td>0</td>\n",
              "      <td>...</td>\n",
              "      <td>0</td>\n",
              "      <td>0</td>\n",
              "      <td>0</td>\n",
              "      <td>0</td>\n",
              "      <td>0</td>\n",
              "      <td>0</td>\n",
              "      <td>0</td>\n",
              "      <td>0</td>\n",
              "      <td>0</td>\n",
              "      <td>0</td>\n",
              "      <td>0</td>\n",
              "      <td>0</td>\n",
              "      <td>0</td>\n",
              "      <td>0</td>\n",
              "      <td>0</td>\n",
              "      <td>0</td>\n",
              "      <td>0</td>\n",
              "      <td>0</td>\n",
              "      <td>0</td>\n",
              "      <td>0</td>\n",
              "      <td>0</td>\n",
              "      <td>0</td>\n",
              "      <td>0</td>\n",
              "      <td>0</td>\n",
              "      <td>0</td>\n",
              "      <td>0</td>\n",
              "      <td>0</td>\n",
              "      <td>0</td>\n",
              "      <td>0</td>\n",
              "      <td>0</td>\n",
              "      <td>0</td>\n",
              "      <td>0</td>\n",
              "      <td>0</td>\n",
              "      <td>0</td>\n",
              "      <td>0</td>\n",
              "      <td>0</td>\n",
              "      <td>0</td>\n",
              "      <td>0</td>\n",
              "      <td>0</td>\n",
              "      <td>0</td>\n",
              "    </tr>\n",
              "    <tr>\n",
              "      <th>4</th>\n",
              "      <td>1</td>\n",
              "      <td>0</td>\n",
              "      <td>0</td>\n",
              "      <td>2</td>\n",
              "      <td>0</td>\n",
              "      <td>0</td>\n",
              "      <td>0</td>\n",
              "      <td>0</td>\n",
              "      <td>0</td>\n",
              "      <td>0</td>\n",
              "      <td>0</td>\n",
              "      <td>0</td>\n",
              "      <td>0</td>\n",
              "      <td>0</td>\n",
              "      <td>0</td>\n",
              "      <td>0</td>\n",
              "      <td>0</td>\n",
              "      <td>0</td>\n",
              "      <td>0</td>\n",
              "      <td>0</td>\n",
              "      <td>0</td>\n",
              "      <td>0</td>\n",
              "      <td>0</td>\n",
              "      <td>0</td>\n",
              "      <td>0</td>\n",
              "      <td>0</td>\n",
              "      <td>0</td>\n",
              "      <td>0</td>\n",
              "      <td>0</td>\n",
              "      <td>0</td>\n",
              "      <td>0</td>\n",
              "      <td>0</td>\n",
              "      <td>0</td>\n",
              "      <td>0</td>\n",
              "      <td>0</td>\n",
              "      <td>0</td>\n",
              "      <td>0</td>\n",
              "      <td>0</td>\n",
              "      <td>0</td>\n",
              "      <td>0</td>\n",
              "      <td>...</td>\n",
              "      <td>0</td>\n",
              "      <td>0</td>\n",
              "      <td>0</td>\n",
              "      <td>0</td>\n",
              "      <td>0</td>\n",
              "      <td>0</td>\n",
              "      <td>0</td>\n",
              "      <td>0</td>\n",
              "      <td>0</td>\n",
              "      <td>0</td>\n",
              "      <td>0</td>\n",
              "      <td>0</td>\n",
              "      <td>0</td>\n",
              "      <td>0</td>\n",
              "      <td>0</td>\n",
              "      <td>0</td>\n",
              "      <td>0</td>\n",
              "      <td>0</td>\n",
              "      <td>0</td>\n",
              "      <td>0</td>\n",
              "      <td>0</td>\n",
              "      <td>0</td>\n",
              "      <td>0</td>\n",
              "      <td>0</td>\n",
              "      <td>0</td>\n",
              "      <td>0</td>\n",
              "      <td>0</td>\n",
              "      <td>0</td>\n",
              "      <td>0</td>\n",
              "      <td>0</td>\n",
              "      <td>0</td>\n",
              "      <td>0</td>\n",
              "      <td>0</td>\n",
              "      <td>0</td>\n",
              "      <td>0</td>\n",
              "      <td>0</td>\n",
              "      <td>0</td>\n",
              "      <td>0</td>\n",
              "      <td>0</td>\n",
              "      <td>0</td>\n",
              "    </tr>\n",
              "  </tbody>\n",
              "</table>\n",
              "<p>5 rows × 7356 columns</p>\n",
              "</div>"
            ],
            "text/plain": [
              "   lesionados  ...  pk_RAMPA SALIDA HUERGO PESADOS\n",
              "0           1  ...                               0\n",
              "1           0  ...                               0\n",
              "2           1  ...                               0\n",
              "3           0  ...                               0\n",
              "4           1  ...                               0\n",
              "\n",
              "[5 rows x 7356 columns]"
            ]
          },
          "metadata": {
            "tags": []
          }
        }
      ]
    },
    {
      "cell_type": "markdown",
      "metadata": {
        "colab_type": "text",
        "id": "7_GCzUNSxNpO"
      },
      "source": [
        "###Guardamos el dataset transformado"
      ]
    },
    {
      "cell_type": "code",
      "metadata": {
        "colab_type": "code",
        "id": "x-ASYzOJp1QA",
        "colab": {}
      },
      "source": [
        "import pickle"
      ],
      "execution_count": 0,
      "outputs": []
    },
    {
      "cell_type": "code",
      "metadata": {
        "colab_type": "code",
        "id": "DWQLyseep1QN",
        "colab": {}
      },
      "source": [
        "with open('{}intervenciones-de-seguridad-vial_dummies_expl.pkl'.format(path), 'wb') as df_pkl:\n",
        "    pickle.dump(df, df_pkl)"
      ],
      "execution_count": 0,
      "outputs": []
    },
    {
      "cell_type": "code",
      "metadata": {
        "colab_type": "code",
        "id": "6uHMc9ndGsIf",
        "colab": {}
      },
      "source": [
        "# Armo matriz de features y el target\n",
        "X = df.drop(['lesionados', 'fallecidos'], axis = 1)\n",
        "y = df['lesionados']"
      ],
      "execution_count": 0,
      "outputs": []
    },
    {
      "cell_type": "code",
      "metadata": {
        "colab_type": "code",
        "id": "Tbi2sIJYnqMQ",
        "colab": {}
      },
      "source": [
        "# features_a_encodear = ['periodo', 'dia_semana', 'hora', 'autopista', \\\n",
        "#                       'banda_y_o_ramal', 'pk','condiciones_meteorologicas', \\\n",
        "#                       'superficie_de_la_via', 'tipo_de_siniestro']"
      ],
      "execution_count": 0,
      "outputs": []
    },
    {
      "cell_type": "code",
      "metadata": {
        "colab_type": "code",
        "id": "dLGuv39MGsIi",
        "colab": {}
      },
      "source": [
        "# Paso columnas categóricas\n",
        "#from sklearn.preprocessing import OneHotEncoder\n",
        "#OHE = OneHotEncoder()\n",
        "#X = OHE.fit_transform(X[features_a_encodear])\n",
        "#X.shape"
      ],
      "execution_count": 0,
      "outputs": []
    },
    {
      "cell_type": "code",
      "metadata": {
        "colab_type": "code",
        "id": "BNrk2CrCGsIq",
        "outputId": "2c329242-bd98-46aa-b625-c9f730f11367",
        "colab": {
          "base_uri": "https://localhost:8080/",
          "height": 83
        }
      },
      "source": [
        "# Divido los datos en train y test\n",
        "from sklearn.model_selection import train_test_split\n",
        "X_train, X_test, y_train, y_test = train_test_split(X, y, test_size=0.33, random_state=42)\n",
        "print(X_train.shape)\n",
        "print(X_test.shape)\n",
        "print(y_train.shape)\n",
        "print(y_test.shape)\n"
      ],
      "execution_count": 0,
      "outputs": [
        {
          "output_type": "stream",
          "text": [
            "(3875, 7354)\n",
            "(1910, 7354)\n",
            "(3875,)\n",
            "(1910,)\n"
          ],
          "name": "stdout"
        }
      ]
    },
    {
      "cell_type": "code",
      "metadata": {
        "colab_type": "code",
        "id": "-4wCH2YpGsIu",
        "outputId": "cf1037a3-b1d8-40fb-8ca0-ac8ddf359c63",
        "colab": {
          "base_uri": "https://localhost:8080/",
          "height": 317
        }
      },
      "source": [
        "!pip install xgboost\n",
        "!pip install scikit-plot\n",
        "# XGBoost\n",
        "import scipy.stats as st\n",
        "from sklearn.model_selection import RandomizedSearchCV\n",
        "import time\n",
        "from sklearn.metrics import roc_auc_score\n",
        "from xgboost.sklearn import XGBClassifier\n",
        "from scikitplot.metrics import plot_roc"
      ],
      "execution_count": 0,
      "outputs": [
        {
          "output_type": "stream",
          "text": [
            "Requirement already satisfied: xgboost in /usr/local/lib/python3.6/dist-packages (0.90)\n",
            "Requirement already satisfied: scipy in /usr/local/lib/python3.6/dist-packages (from xgboost) (1.3.0)\n",
            "Requirement already satisfied: numpy in /usr/local/lib/python3.6/dist-packages (from xgboost) (1.16.4)\n",
            "Collecting scikit-plot\n",
            "  Downloading https://files.pythonhosted.org/packages/7c/47/32520e259340c140a4ad27c1b97050dd3254fdc517b1d59974d47037510e/scikit_plot-0.3.7-py3-none-any.whl\n",
            "Requirement already satisfied: scikit-learn>=0.18 in /usr/local/lib/python3.6/dist-packages (from scikit-plot) (0.21.2)\n",
            "Requirement already satisfied: joblib>=0.10 in /usr/local/lib/python3.6/dist-packages (from scikit-plot) (0.13.2)\n",
            "Requirement already satisfied: matplotlib>=1.4.0 in /usr/local/lib/python3.6/dist-packages (from scikit-plot) (3.0.3)\n",
            "Requirement already satisfied: scipy>=0.9 in /usr/local/lib/python3.6/dist-packages (from scikit-plot) (1.3.0)\n",
            "Requirement already satisfied: numpy>=1.11.0 in /usr/local/lib/python3.6/dist-packages (from scikit-learn>=0.18->scikit-plot) (1.16.4)\n",
            "Requirement already satisfied: cycler>=0.10 in /usr/local/lib/python3.6/dist-packages (from matplotlib>=1.4.0->scikit-plot) (0.10.0)\n",
            "Requirement already satisfied: kiwisolver>=1.0.1 in /usr/local/lib/python3.6/dist-packages (from matplotlib>=1.4.0->scikit-plot) (1.1.0)\n",
            "Requirement already satisfied: pyparsing!=2.0.4,!=2.1.2,!=2.1.6,>=2.0.1 in /usr/local/lib/python3.6/dist-packages (from matplotlib>=1.4.0->scikit-plot) (2.4.0)\n",
            "Requirement already satisfied: python-dateutil>=2.1 in /usr/local/lib/python3.6/dist-packages (from matplotlib>=1.4.0->scikit-plot) (2.5.3)\n",
            "Requirement already satisfied: six in /usr/local/lib/python3.6/dist-packages (from cycler>=0.10->matplotlib>=1.4.0->scikit-plot) (1.12.0)\n",
            "Requirement already satisfied: setuptools in /usr/local/lib/python3.6/dist-packages (from kiwisolver>=1.0.1->matplotlib>=1.4.0->scikit-plot) (41.0.1)\n",
            "Installing collected packages: scikit-plot\n",
            "Successfully installed scikit-plot-0.3.7\n"
          ],
          "name": "stdout"
        }
      ]
    },
    {
      "cell_type": "code",
      "metadata": {
        "colab_type": "code",
        "id": "aG5f79oqGsIz",
        "outputId": "f6fbf531-74ee-4a80-bde5-517f8df3c03c",
        "colab": {
          "base_uri": "https://localhost:8080/",
          "height": 117
        }
      },
      "source": [
        "model = XGBClassifier(nthreads=-1)\n",
        "one_to_left = st.beta(10, 1) # Esta distribución nos dará valores entre 0 y 1 mayormente cercanos a 1\n",
        "params = {  \n",
        "    \"n_estimators\": st.randint(20,40), # Number of boosted trees to fit.\n",
        "    \"max_depth\": st.randint(3, 12),     # Maximum tree depth for base learners.\n",
        "    \"learning_rate\": st.uniform(0.05, 0.4), #     Boosting learning rate (xgb’s “eta”)\n",
        "    \"colsample_bytree\": one_to_left, #     Subsample ratio of columns when constructing each tree.\n",
        "    \"subsample\": one_to_left,     # Subsample ratio of the training instance.\n",
        "    \"gamma\": st.uniform(0, 10), #     Minimum loss reduction required to make a further partition on a leaf node of the tree.\n",
        "    'reg_alpha': st.uniform(0.05,10),   # L1 regularization term on weights\n",
        "    \"min_child_weight\": st.uniform(1,20), #    Minimum sum of instance weight(hessian) needed in a child.\n",
        "}\n",
        "xgb = RandomizedSearchCV(model,params, n_iter=25, verbose= True)\n",
        "start = time.time()\n",
        "xgb.fit(X_train,y_train)\n",
        "end = time.time()\n",
        "print(\"La búsqueda con XGBoost llevó: \", end - start, \" segundos\")"
      ],
      "execution_count": 0,
      "outputs": [
        {
          "output_type": "stream",
          "text": [
            "/usr/local/lib/python3.6/dist-packages/sklearn/model_selection/_split.py:1978: FutureWarning: The default value of cv will change from 3 to 5 in version 0.22. Specify it explicitly to silence this warning.\n",
            "  warnings.warn(CV_WARNING, FutureWarning)\n",
            "[Parallel(n_jobs=1)]: Using backend SequentialBackend with 1 concurrent workers.\n"
          ],
          "name": "stderr"
        },
        {
          "output_type": "stream",
          "text": [
            "Fitting 3 folds for each of 25 candidates, totalling 75 fits\n"
          ],
          "name": "stdout"
        },
        {
          "output_type": "stream",
          "text": [
            "[Parallel(n_jobs=1)]: Done  75 out of  75 | elapsed: 32.3min finished\n"
          ],
          "name": "stderr"
        },
        {
          "output_type": "stream",
          "text": [
            "La búsqueda con XGBoost llevó:  1979.9605584144592  segundos\n"
          ],
          "name": "stdout"
        }
      ]
    },
    {
      "cell_type": "code",
      "metadata": {
        "colab_type": "code",
        "id": "BeEeYCVvGsI4",
        "outputId": "1608e149-1816-45c4-94c3-e0b4251eb174",
        "colab": {
          "base_uri": "https://localhost:8080/",
          "height": 33
        }
      },
      "source": [
        "opt_xgb = xgb.best_estimator_\n",
        "type(opt_xgb)"
      ],
      "execution_count": 0,
      "outputs": [
        {
          "output_type": "execute_result",
          "data": {
            "text/plain": [
              "xgboost.sklearn.XGBClassifier"
            ]
          },
          "metadata": {
            "tags": []
          },
          "execution_count": 77
        }
      ]
    },
    {
      "cell_type": "code",
      "metadata": {
        "colab_type": "code",
        "id": "a7Ibgv9BGsI_",
        "outputId": "93f93f80-97ec-490f-ad20-443832822516",
        "colab": {
          "base_uri": "https://localhost:8080/",
          "height": 33
        }
      },
      "source": [
        "y_predicted_xgb = opt_xgb.predict_proba(X_test)\n",
        "y_predict = opt_xgb.predict(X_test)\n",
        "y_predicted_xgb[:,0].shape"
      ],
      "execution_count": 0,
      "outputs": [
        {
          "output_type": "execute_result",
          "data": {
            "text/plain": [
              "(1910,)"
            ]
          },
          "metadata": {
            "tags": []
          },
          "execution_count": 78
        }
      ]
    },
    {
      "cell_type": "code",
      "metadata": {
        "colab_type": "code",
        "id": "ZgIkHmuoGsJE",
        "outputId": "48506dcc-7f2d-4464-e3cb-ea00f438fe08",
        "colab": {
          "base_uri": "https://localhost:8080/",
          "height": 167
        }
      },
      "source": [
        "from sklearn.metrics import classification_report\n",
        "from sklearn.metrics import confusion_matrix, accuracy_score\n",
        "print(classification_report(y_test,y_predict))"
      ],
      "execution_count": 0,
      "outputs": [
        {
          "output_type": "stream",
          "text": [
            "              precision    recall  f1-score   support\n",
            "\n",
            "           0       0.73      0.85      0.79      1084\n",
            "           1       0.75      0.59      0.66       826\n",
            "\n",
            "    accuracy                           0.74      1910\n",
            "   macro avg       0.74      0.72      0.72      1910\n",
            "weighted avg       0.74      0.74      0.73      1910\n",
            "\n"
          ],
          "name": "stdout"
        }
      ]
    },
    {
      "cell_type": "code",
      "metadata": {
        "colab_type": "code",
        "id": "mKWjcqw2GsJI",
        "outputId": "e3138895-3e8e-49a0-a961-77fabdc37094",
        "colab": {
          "base_uri": "https://localhost:8080/",
          "height": 33
        }
      },
      "source": [
        "xgb_auc = roc_auc_score(y_test,y_predict)\n",
        "print(\"El valor del AUC es: \", xgb_auc)"
      ],
      "execution_count": 0,
      "outputs": [
        {
          "output_type": "stream",
          "text": [
            "El valor del AUC es:  0.7213106332031843\n"
          ],
          "name": "stdout"
        }
      ]
    },
    {
      "cell_type": "code",
      "metadata": {
        "colab_type": "code",
        "id": "u1Bp5ZNjGsJQ",
        "outputId": "fbdc2400-bf9f-4614-c165-da6b87a93cc4",
        "colab": {
          "base_uri": "https://localhost:8080/",
          "height": 307
        }
      },
      "source": [
        "# Matriz de confusión\n",
        "\n",
        "sns.set(rc={'figure.figsize':(5,4)})\n",
        "sns.heatmap(confusion_matrix(y_test, y_predict), fmt=\"d\", annot=True, cbar=False)\n",
        "plt.ylabel('Verdaderos')\n",
        "plt.xlabel('Predichos');\n",
        "print(accuracy_score(y_test, y_predict))\n"
      ],
      "execution_count": 0,
      "outputs": [
        {
          "output_type": "stream",
          "text": [
            "0.7392670157068063\n"
          ],
          "name": "stdout"
        },
        {
          "output_type": "display_data",
          "data": {
            "image/png": "[encoded data removed]",
            "text/plain": [
              "<Figure size 360x288 with 1 Axes>"
            ]
          },
          "metadata": {
            "tags": []
          }
        }
      ]
    },
    {
      "cell_type": "code",
      "metadata": {
        "colab_type": "code",
        "id": "vJ1SifoCGsJU",
        "outputId": "465baab8-ce92-4ddb-89a6-71bb8fb16f36",
        "colab": {
          "base_uri": "https://localhost:8080/",
          "height": 50
        }
      },
      "source": [
        "confusion = confusion_matrix(y_test, y_predict)\n",
        "print(confusion)"
      ],
      "execution_count": 0,
      "outputs": [
        {
          "output_type": "stream",
          "text": [
            "[[926 158]\n",
            " [340 486]]\n"
          ],
          "name": "stdout"
        }
      ]
    },
    {
      "cell_type": "code",
      "metadata": {
        "colab_type": "code",
        "id": "kDbCK2AyGsJn",
        "outputId": "ed51ceb8-6456-46ea-b0a2-8f180c09d691",
        "colab": {
          "base_uri": "https://localhost:8080/",
          "height": 534
        }
      },
      "source": [
        "from sklearn.metrics import roc_auc_score\n",
        "from sklearn.metrics import roc_curve\n",
        "\n",
        "#plot_roc(y_test,y_predict, plot_micro = False, plot_macro= False)\n",
        "\n",
        "logit_roc_auc = roc_auc_score(y_test, y_predict)\n",
        "fpr, tpr, thresholds = roc_curve(y_test, opt_xgb.predict_proba(X_test)[:,1])\n",
        "\n",
        "print('XGBoost (área = %0.2f)' % logit_roc_auc)\n",
        "plt.figure(figsize=(8,8))\n",
        "plt.plot(fpr, tpr, label='XGBoost (área = %0.2f)' % logit_roc_auc)\n",
        "plt.plot([0, 1], [0, 1],'r--')\n",
        "plt.xlim([0.0, 1.0])\n",
        "plt.ylim([0.0, 1.05])\n",
        "plt.xlabel('Tasa de Falsos Positivos')\n",
        "plt.ylabel('Tasa de Verdaderos Positivos')\n",
        "plt.title('Curva ROC')\n",
        "plt.legend(\"lower right\")\n",
        "plt.savefig('Log_ROC')\n",
        "plt.show()\n",
        "\n"
      ],
      "execution_count": 0,
      "outputs": [
        {
          "output_type": "stream",
          "text": [
            "XGBoost (área = 0.72)\n"
          ],
          "name": "stdout"
        },
        {
          "output_type": "display_data",
          "data": {
            "image/png": "[encoded data removed]",
            "text/plain": [
              "<Figure size 576x576 with 1 Axes>"
            ]
          },
          "metadata": {
            "tags": []
          }
        }
      ]
    },
    {
      "cell_type": "code",
      "metadata": {
        "colab_type": "code",
        "id": "4m2FOdCQGsJs",
        "outputId": "e1cb0d76-408e-4897-e903-41dc940c1786",
        "colab": {
          "base_uri": "https://localhost:8080/",
          "height": 318
        }
      },
      "source": [
        "from xgboost import plot_importance\n",
        "plot_importance(opt_xgb,  height = 0.8,max_num_features=8)"
      ],
      "execution_count": 0,
      "outputs": [
        {
          "output_type": "execute_result",
          "data": {
            "text/plain": [
              "<matplotlib.axes._subplots.AxesSubplot at 0x7f19d2868710>"
            ]
          },
          "metadata": {
            "tags": []
          },
          "execution_count": 88
        },
        {
          "output_type": "display_data",
          "data": {
            "image/png": "[encoded data removed]",
            "text/plain": [
              "<Figure size 360x288 with 1 Axes>"
            ]
          },
          "metadata": {
            "tags": []
          }
        }
      ]
    },
    {
      "cell_type": "code",
      "metadata": {
        "id": "_vxb0kDGqxGR",
        "colab_type": "code",
        "outputId": "8371b175-c454-498f-c819-9428897063fa",
        "colab": {
          "base_uri": "https://localhost:8080/",
          "height": 1000
        }
      },
      "source": [
        "# https://graphviz.gitlab.io/_pages/Download/Download_windows.html\n",
        "# https://stackoverflow.com/questions/48736428/windows-10-anaconda-graphviz-error-not-working\n",
        "from xgboost import plot_tree\n",
        "import matplotlib.pyplot as plt\n",
        "import xgboost as xgboost\n",
        "\n",
        "fig, ax = plt.subplots(figsize=(20,20))\n",
        "#plt.figure(figsize=(18,10))\n",
        "\n",
        "# Plot the first tree\n",
        "xgboost.plot_tree(opt_xgb,num_trees=0, ax=ax)\n",
        "plt.show()\n",
        "# Plot the fifth tree\n",
        "fig, ax1 = plt.subplots(figsize=(25,25))\n",
        "xgboost.plot_tree(opt_xgb,num_trees=4,ax=ax1)\n",
        "plt.show()\n",
        "# Plot the last tree sideways\n",
        "fig, ax2 = plt.subplots(figsize=(25,25))\n",
        "xgboost.plot_tree(opt_xgb,num_trees=9, rankdir='LR',ax=ax2)\n",
        "plt.show()"
      ],
      "execution_count": 0,
      "outputs": [
        {
          "output_type": "display_data",
          "data": {
            "image/png": "[encoded data removed]",
            "text/plain": [
              "<Figure size 1440x1440 with 1 Axes>"
            ]
          },
          "metadata": {
            "tags": []
          }
        },
        {
          "output_type": "display_data",
          "data": {
            "image/png": "[encoded data removed]",
            "text/plain": [
              "<Figure size 1800x1800 with 1 Axes>"
            ]
          },
          "metadata": {
            "tags": []
          }
        },
        {
          "output_type": "display_data",
          "data": {
            "image/png": "[encoded data removed]",
            "text/plain": [
              "<Figure size 1800x1800 with 1 Axes>"
            ]
          },
          "metadata": {
            "tags": []
          }
        }
      ]
    },
    {
      "cell_type": "code",
      "metadata": {
        "id": "7UOHe35LqxGT",
        "colab_type": "code",
        "colab": {}
      },
      "source": [
        ""
      ],
      "execution_count": 0,
      "outputs": []
    }
  ]
}